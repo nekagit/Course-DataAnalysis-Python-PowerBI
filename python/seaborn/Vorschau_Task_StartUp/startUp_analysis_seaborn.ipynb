{
 "cells": [
  {
   "cell_type": "code",
   "execution_count": 15,
   "metadata": {},
   "outputs": [
    {
     "data": {
      "text/html": [
       "<div>\n",
       "<style scoped>\n",
       "    .dataframe tbody tr th:only-of-type {\n",
       "        vertical-align: middle;\n",
       "    }\n",
       "\n",
       "    .dataframe tbody tr th {\n",
       "        vertical-align: top;\n",
       "    }\n",
       "\n",
       "    .dataframe thead th {\n",
       "        text-align: right;\n",
       "    }\n",
       "</style>\n",
       "<table border=\"1\" class=\"dataframe\">\n",
       "  <thead>\n",
       "    <tr style=\"text-align: right;\">\n",
       "      <th></th>\n",
       "      <th>EmployeeID</th>\n",
       "      <th>FirstName</th>\n",
       "      <th>LastName</th>\n",
       "      <th>Role</th>\n",
       "      <th>Department</th>\n",
       "      <th>Salary</th>\n",
       "      <th>StartDate</th>\n",
       "      <th>Project</th>\n",
       "      <th>PerformanceRating</th>\n",
       "      <th>Age</th>\n",
       "      <th>...</th>\n",
       "      <th>MonthlyBudget</th>\n",
       "      <th>ActualSpending</th>\n",
       "      <th>OfficeSpace</th>\n",
       "      <th>EquipmentCosts</th>\n",
       "      <th>SoftwareLicenses</th>\n",
       "      <th>TrainingBudget</th>\n",
       "      <th>MarketingExpenses</th>\n",
       "      <th>TravelExpenses</th>\n",
       "      <th>Utilities</th>\n",
       "      <th>Miscellaneous</th>\n",
       "    </tr>\n",
       "  </thead>\n",
       "  <tbody>\n",
       "    <tr>\n",
       "      <th>45</th>\n",
       "      <td>46</td>\n",
       "      <td>Charlotte</td>\n",
       "      <td>Rogers</td>\n",
       "      <td>PR Specialist</td>\n",
       "      <td>Marketing</td>\n",
       "      <td>69000</td>\n",
       "      <td>2021-07-20</td>\n",
       "      <td>Project Alpha</td>\n",
       "      <td>4.3</td>\n",
       "      <td>28</td>\n",
       "      <td>...</td>\n",
       "      <td>65000.0</td>\n",
       "      <td>68000.0</td>\n",
       "      <td>10000.0</td>\n",
       "      <td>5000.0</td>\n",
       "      <td>4000.0</td>\n",
       "      <td>3000.0</td>\n",
       "      <td>25000.0</td>\n",
       "      <td>5000.0</td>\n",
       "      <td>2000.0</td>\n",
       "      <td>1500.0</td>\n",
       "    </tr>\n",
       "    <tr>\n",
       "      <th>46</th>\n",
       "      <td>47</td>\n",
       "      <td>Lucas</td>\n",
       "      <td>Patterson</td>\n",
       "      <td>Software Tester</td>\n",
       "      <td>Quality Assurance</td>\n",
       "      <td>66000</td>\n",
       "      <td>2023-02-22</td>\n",
       "      <td>Project Beta</td>\n",
       "      <td>4.0</td>\n",
       "      <td>30</td>\n",
       "      <td>...</td>\n",
       "      <td>50000.0</td>\n",
       "      <td>49000.0</td>\n",
       "      <td>8000.0</td>\n",
       "      <td>15000.0</td>\n",
       "      <td>5000.0</td>\n",
       "      <td>3000.0</td>\n",
       "      <td>0.0</td>\n",
       "      <td>1000.0</td>\n",
       "      <td>1800.0</td>\n",
       "      <td>700.0</td>\n",
       "    </tr>\n",
       "    <tr>\n",
       "      <th>47</th>\n",
       "      <td>48</td>\n",
       "      <td>Amelia</td>\n",
       "      <td>Hughes</td>\n",
       "      <td>Training Specialist</td>\n",
       "      <td>Human Resources</td>\n",
       "      <td>70000</td>\n",
       "      <td>2022-11-25</td>\n",
       "      <td>NA</td>\n",
       "      <td>4.4</td>\n",
       "      <td>32</td>\n",
       "      <td>...</td>\n",
       "      <td>45000.0</td>\n",
       "      <td>44000.0</td>\n",
       "      <td>7000.0</td>\n",
       "      <td>3000.0</td>\n",
       "      <td>2000.0</td>\n",
       "      <td>5000.0</td>\n",
       "      <td>1000.0</td>\n",
       "      <td>2000.0</td>\n",
       "      <td>1500.0</td>\n",
       "      <td>1000.0</td>\n",
       "    </tr>\n",
       "    <tr>\n",
       "      <th>48</th>\n",
       "      <td>49</td>\n",
       "      <td>Jack</td>\n",
       "      <td>Foster</td>\n",
       "      <td>System Administrator</td>\n",
       "      <td>IT</td>\n",
       "      <td>76000</td>\n",
       "      <td>2021-05-05</td>\n",
       "      <td>Project Gamma</td>\n",
       "      <td>4.6</td>\n",
       "      <td>36</td>\n",
       "      <td>...</td>\n",
       "      <td>85000.0</td>\n",
       "      <td>87000.0</td>\n",
       "      <td>12000.0</td>\n",
       "      <td>30000.0</td>\n",
       "      <td>20000.0</td>\n",
       "      <td>5000.0</td>\n",
       "      <td>0.0</td>\n",
       "      <td>2000.0</td>\n",
       "      <td>3000.0</td>\n",
       "      <td>1000.0</td>\n",
       "    </tr>\n",
       "    <tr>\n",
       "      <th>49</th>\n",
       "      <td>50</td>\n",
       "      <td>Mia</td>\n",
       "      <td>Flores</td>\n",
       "      <td>Market Analyst</td>\n",
       "      <td>Marketing</td>\n",
       "      <td>67000</td>\n",
       "      <td>2023-03-15</td>\n",
       "      <td>Project Delta</td>\n",
       "      <td>4.1</td>\n",
       "      <td>28</td>\n",
       "      <td>...</td>\n",
       "      <td>65000.0</td>\n",
       "      <td>68000.0</td>\n",
       "      <td>10000.0</td>\n",
       "      <td>5000.0</td>\n",
       "      <td>4000.0</td>\n",
       "      <td>3000.0</td>\n",
       "      <td>25000.0</td>\n",
       "      <td>5000.0</td>\n",
       "      <td>2000.0</td>\n",
       "      <td>1500.0</td>\n",
       "    </tr>\n",
       "  </tbody>\n",
       "</table>\n",
       "<p>5 rows × 28 columns</p>\n",
       "</div>"
      ],
      "text/plain": [
       "    EmployeeID     FirstName    LastName                     Role  \\\n",
       "45          46   Charlotte     Rogers      PR Specialist            \n",
       "46          47   Lucas         Patterson   Software Tester          \n",
       "47          48   Amelia        Hughes      Training Specialist      \n",
       "48          49   Jack          Foster      System Administrator     \n",
       "49          50   Mia           Flores      Market Analyst           \n",
       "\n",
       "           Department  Salary    StartDate           Project  \\\n",
       "45          Marketing   69000   2021-07-20   Project Alpha     \n",
       "46  Quality Assurance   66000   2023-02-22   Project Beta      \n",
       "47    Human Resources   70000   2022-11-25   NA                \n",
       "48                 IT   76000   2021-05-05   Project Gamma     \n",
       "49          Marketing   67000   2023-03-15   Project Delta     \n",
       "\n",
       "    PerformanceRating  Age  ... MonthlyBudget  ActualSpending  OfficeSpace  \\\n",
       "45                4.3   28  ...       65000.0         68000.0      10000.0   \n",
       "46                4.0   30  ...       50000.0         49000.0       8000.0   \n",
       "47                4.4   32  ...       45000.0         44000.0       7000.0   \n",
       "48                4.6   36  ...       85000.0         87000.0      12000.0   \n",
       "49                4.1   28  ...       65000.0         68000.0      10000.0   \n",
       "\n",
       "    EquipmentCosts  SoftwareLicenses  TrainingBudget  MarketingExpenses  \\\n",
       "45          5000.0            4000.0          3000.0            25000.0   \n",
       "46         15000.0            5000.0          3000.0                0.0   \n",
       "47          3000.0            2000.0          5000.0             1000.0   \n",
       "48         30000.0           20000.0          5000.0                0.0   \n",
       "49          5000.0            4000.0          3000.0            25000.0   \n",
       "\n",
       "    TravelExpenses  Utilities  Miscellaneous  \n",
       "45          5000.0     2000.0         1500.0  \n",
       "46          1000.0     1800.0          700.0  \n",
       "47          2000.0     1500.0         1000.0  \n",
       "48          2000.0     3000.0         1000.0  \n",
       "49          5000.0     2000.0         1500.0  \n",
       "\n",
       "[5 rows x 28 columns]"
      ]
     },
     "execution_count": 15,
     "metadata": {},
     "output_type": "execute_result"
    }
   ],
   "source": [
    "import pandas as pd\n",
    "\n",
    "df = pd.read_csv('startup_data.csv')\n",
    "\n",
    "# Load the data\n",
    "employee_df = pd.read_csv('startup_data.csv')\n",
    "department_df = pd.read_csv('department_data.csv')\n",
    "employee_df.columns = employee_df.columns.str.strip()\n",
    "department_df.columns = department_df.columns.str.strip()\n",
    "\n",
    "employee_df['Department'] = employee_df['Department'].str.strip()\n",
    "department_df['Department'] = department_df['Department'].str.strip()\n",
    "df = pd.merge(employee_df, department_df, on='Department', how='left')\n",
    "\n",
    "# first 5 series \n",
    "df.head()\n",
    "\n",
    "# last 5 series\n",
    "df.tail()\n",
    "\n",
    "# Trim whitespace from column names\n",
    "# df.columns\n",
    "# department_df.columns"
   ]
  },
  {
   "cell_type": "code",
   "execution_count": 16,
   "metadata": {},
   "outputs": [
    {
     "data": {
      "text/plain": [
       "array(['Development', 'Data Science', 'Design', 'Management',\n",
       "       'Quality Assurance', 'Operations', 'Human Resources', 'Marketing',\n",
       "       'IT', 'Finance', 'Customer Service', 'Sales', 'Legal',\n",
       "       'Engineering'], dtype=object)"
      ]
     },
     "execution_count": 16,
     "metadata": {},
     "output_type": "execute_result"
    }
   ],
   "source": [
    "# Function to save plots\n",
    "def save_plot(fig, filename):\n",
    "    fig.savefig(filename, dpi=300, bbox_inches='tight')\n",
    "    plt.close(fig)\n",
    "\n",
    "# General information about the DataFrame\n",
    "# df.info()\n",
    "\n",
    "# General information about count, mean, std, min, max, percentiles\n",
    "# df.describe()\n",
    "\n",
    "df['Department'].unique()"
   ]
  },
  {
   "cell_type": "code",
   "execution_count": 17,
   "metadata": {},
   "outputs": [
    {
     "data": {
      "image/png": "[encoded data removed]",
      "text/plain": [
       "<Figure size 1200x600 with 1 Axes>"
      ]
     },
     "metadata": {},
     "output_type": "display_data"
    }
   ],
   "source": [
    "import seaborn as sns\n",
    "import matplotlib.pyplot as plt\n",
    "\n",
    "\n",
    "# Define role groups\n",
    "role_groups = {\n",
    "    'Software Development': ['Software Engineer', 'Backend Developer', 'Frontend Developer', 'Full Stack Developer', 'Mobile Developer', 'Software Architect'],\n",
    "    'Data & Analytics': ['Data Scientist', 'Data Analyst', 'Data Engineer', 'Machine Learning Engineer', 'Business Intelligence Analyst'],\n",
    "    'Design & UX': ['UX Designer', 'UI Designer', 'Graphic Designer', 'Product Designer'],\n",
    "    'Management & Product': ['Product Manager', 'Project Manager', 'Technical Lead', 'Scrum Master', 'Agile Coach'],\n",
    "    'Operations & IT': ['DevOps Engineer', 'System Administrator', 'Network Engineer', 'Cloud Engineer', 'IT Support Specialist'],\n",
    "    'Other Specialists': ['Marketing Specialist', 'HR Specialist', 'Financial Analyst', 'Sales Manager', 'Customer Support']\n",
    "}\n",
    "\n",
    "# Determine group for each role\n",
    "def group_roles(role):\n",
    "    for group, roles in role_groups.items():\n",
    "        if any(r.lower() in role.lower() for r in roles):\n",
    "            return group\n",
    "    return 'Other Specialists'\n",
    "\n",
    "df['Role Group'] = df['Role'].apply(group_roles)\n",
    "\n",
    "# Calculate average salary by role group\n",
    "avg_salary_by_role_group = df.groupby('Role Group')['Salary'].mean().reset_index()\n",
    "\n",
    "# Plot using Seaborn\n",
    "plt.figure(figsize=(12,6))\n",
    "sns.barplot(x='Role Group', y='Salary', data=avg_salary_by_role_group, palette='Blues_d', hue='Role Group')\n",
    "plt.title('Average Salary by Role Group')\n",
    "plt.xlabel('Role Group')\n",
    "plt.ylabel('Average Salary')\n",
    "plt.xticks(rotation=45)\n",
    "plt.tight_layout()\n",
    "plt.show()"
   ]
  },
  {
   "cell_type": "code",
   "execution_count": 18,
   "metadata": {},
   "outputs": [
    {
     "data": {
      "image/png": "[encoded data removed]",
      "text/plain": [
       "<Figure size 640x480 with 1 Axes>"
      ]
     },
     "metadata": {},
     "output_type": "display_data"
    }
   ],
   "source": [
    "# Plot pie chart for distribution of departments -- Not available in Seaborn\n",
    "# The distribution of departments\n",
    "department_distribution = df['Department'].value_counts()\n",
    "department_distribution.plot(kind='pie', autopct='%1.1f%%', pctdistance=0.85)\n",
    "plt.tight_layout()\n",
    "plt.show()"
   ]
  },
  {
   "cell_type": "code",
   "execution_count": 19,
   "metadata": {},
   "outputs": [
    {
     "data": {
      "image/png": "[encoded data removed]",
      "text/plain": [
       "<Figure size 1000x600 with 1 Axes>"
      ]
     },
     "metadata": {},
     "output_type": "display_data"
    }
   ],
   "source": [
    "# Create histogram with Seaborn\n",
    "plt.figure(figsize=(10, 6))\n",
    "sns.histplot(df['PerformanceRating'], bins=5, kde=False, color='lightgreen', edgecolor='black')\n",
    "\n",
    "# Add titles and labels\n",
    "plt.title('Distribution of Performance Ratings')\n",
    "plt.xlabel('Performance Ratings')\n",
    "plt.ylabel('Frequency')\n",
    "\n",
    "plt.tight_layout()\n",
    "plt.show()"
   ]
  },
  {
   "cell_type": "code",
   "execution_count": 20,
   "metadata": {},
   "outputs": [],
   "source": [
    "# a. Salary distribution across departments\n",
    "fig, ax = plt.subplots(figsize=(12, 6))\n",
    "sns.boxplot(x='Department', y='Salary', data=df, ax=ax)\n",
    "ax.set_title('Salary Distribution Across Departments')\n",
    "\n",
    "# Set the ticks and labels properly\n",
    "ax.set_xticks(ax.get_xticks())  # Ensure ticks are set\n",
    "ax.set_xticklabels(ax.get_xticklabels(), rotation=45, ha='right')\n",
    "\n",
    "save_plot(fig, '1a_salary_distribution.png')\n"
   ]
  },
  {
   "cell_type": "code",
   "execution_count": 21,
   "metadata": {},
   "outputs": [],
   "source": [
    "# b. Salary vs. years of experience\n",
    "fig, ax = plt.subplots(figsize=(12, 8))\n",
    "sns.scatterplot(x='YearsOfExperience', y='Salary', hue='Department', data=df, ax=ax)\n",
    "ax.set_title('Salary vs Years of Experience by Department')\n",
    "save_plot(fig, '1b_salary_vs_experience.png')"
   ]
  },
  {
   "cell_type": "code",
   "execution_count": 22,
   "metadata": {},
   "outputs": [],
   "source": [
    "# c. Correlation between performance rating and salary\n",
    "correlation = df['Salary'].corr(df['PerformanceRating'])\n",
    "fig, ax = plt.subplots(figsize=(10, 6))\n",
    "sns.regplot(x='PerformanceRating', y='Salary', data=df, ax=ax)\n",
    "ax.set_title(f'Correlation between Salary and Performance Rating: {correlation:.2f}')\n",
    "save_plot(fig, '1c_salary_performance_correlation.png')"
   ]
  },
  {
   "cell_type": "code",
   "execution_count": 23,
   "metadata": {},
   "outputs": [
    {
     "data": {
      "image/png": "[encoded data removed]",
      "text/plain": [
       "<Figure size 2400x600 with 2 Axes>"
      ]
     },
     "metadata": {},
     "output_type": "display_data"
    }
   ],
   "source": [
    "import seaborn as sns\n",
    "import matplotlib.pyplot as plt\n",
    "\n",
    "# Create a figure with two subplots\n",
    "fig, (ax1, ax2) = plt.subplots(1, 2, figsize=(24, 6))\n",
    "\n",
    "# Plot 1\n",
    "sns.boxplot(x='Department', y='Salary', data=df, hue='Department', ax=ax1)\n",
    "ax1.set_title('Salary Distribution by Department')\n",
    "ax1.tick_params(axis='x', rotation=45)\n",
    "\n",
    "# Plot 2 ( identical to Plot 1, but you can modify it if needed)\n",
    "sns.boxplot(x='PerformanceRating', y='Salary', data=df, hue='Department', ax=ax2)\n",
    "ax2.set_title('Salary Distribution by Department')\n",
    "ax2.tick_params(axis='x', rotation=45)\n",
    "\n",
    "# Adjust the layout to fit the plot elements\n",
    "plt.tight_layout()\n",
    "\n",
    "# Display the plot\n",
    "plt.show()"
   ]
  },
  {
   "cell_type": "code",
   "execution_count": 24,
   "metadata": {},
   "outputs": [
    {
     "data": {
      "application/vnd.plotly.v1+json": {
       "config": {
        "plotlyServerURL": "https://plot.ly"
       },
       "data": [
        {
         "customdata": [
          [
           "Development",
           28
          ]
         ],
         "hovertemplate": "<b>%{hovertext}</b><br><br>Role= Software Engineer     <br>YearsOfExperience=%{x}<br>Salary=%{y}<br>PerformanceRating=%{marker.size}<br>Department=%{customdata[0]}<br>Age=%{customdata[1]}<extra></extra>",
         "hovertext": [
          " John       "
         ],
         "legendgroup": " Software Engineer     ",
         "marker": {
          "color": "#636efa",
          "size": [
           4.5
          ],
          "sizemode": "area",
          "sizeref": 0.012,
          "symbol": "circle"
         },
         "mode": "markers",
         "name": " Software Engineer     ",
         "orientation": "v",
         "showlegend": true,
         "type": "scatter",
         "x": [
          5
         ],
         "xaxis": "x",
         "y": [
          70000
         ],
         "yaxis": "y"
        },
        {
         "customdata": [
          [
           "Data Science",
           32
          ]
         ],
         "hovertemplate": "<b>%{hovertext}</b><br><br>Role= Data Scientist        <br>YearsOfExperience=%{x}<br>Salary=%{y}<br>PerformanceRating=%{marker.size}<br>Department=%{customdata[0]}<br>Age=%{customdata[1]}<extra></extra>",
         "hovertext": [
          " Jane       "
         ],
         "legendgroup": " Data Scientist        ",
         "marker": {
          "color": "#EF553B",
          "size": [
           4.7
          ],
          "sizemode": "area",
          "sizeref": 0.012,
          "symbol": "circle"
         },
         "mode": "markers",
         "name": " Data Scientist        ",
         "orientation": "v",
         "showlegend": true,
         "type": "scatter",
         "x": [
          7
         ],
         "xaxis": "x",
         "y": [
          75000
         ],
         "yaxis": "y"
        },
        {
         "customdata": [
          [
           "Design",
           26
          ]
         ],
         "hovertemplate": "<b>%{hovertext}</b><br><br>Role= UX Designer           <br>YearsOfExperience=%{x}<br>Salary=%{y}<br>PerformanceRating=%{marker.size}<br>Department=%{customdata[0]}<br>Age=%{customdata[1]}<extra></extra>",
         "hovertext": [
          " Michael    "
         ],
         "legendgroup": " UX Designer           ",
         "marker": {
          "color": "#00cc96",
          "size": [
           4.2
          ],
          "sizemode": "area",
          "sizeref": 0.012,
          "symbol": "circle"
         },
         "mode": "markers",
         "name": " UX Designer           ",
         "orientation": "v",
         "showlegend": true,
         "type": "scatter",
         "x": [
          3
         ],
         "xaxis": "x",
         "y": [
          68000
         ],
         "yaxis": "y"
        },
        {
         "customdata": [
          [
           "Management",
           35
          ]
         ],
         "hovertemplate": "<b>%{hovertext}</b><br><br>Role= Product Manager       <br>YearsOfExperience=%{x}<br>Salary=%{y}<br>PerformanceRating=%{marker.size}<br>Department=%{customdata[0]}<br>Age=%{customdata[1]}<extra></extra>",
         "hovertext": [
          " Emily      "
         ],
         "legendgroup": " Product Manager       ",
         "marker": {
          "color": "#ab63fa",
          "size": [
           4.6
          ],
          "sizemode": "area",
          "sizeref": 0.012,
          "symbol": "circle"
         },
         "mode": "markers",
         "name": " Product Manager       ",
         "orientation": "v",
         "showlegend": true,
         "type": "scatter",
         "x": [
          10
         ],
         "xaxis": "x",
         "y": [
          80000
         ],
         "yaxis": "y"
        },
        {
         "customdata": [
          [
           "Quality Assurance",
           29
          ]
         ],
         "hovertemplate": "<b>%{hovertext}</b><br><br>Role= QA Engineer           <br>YearsOfExperience=%{x}<br>Salary=%{y}<br>PerformanceRating=%{marker.size}<br>Department=%{customdata[0]}<br>Age=%{customdata[1]}<extra></extra>",
         "hovertext": [
          " David      "
         ],
         "legendgroup": " QA Engineer           ",
         "marker": {
          "color": "#FFA15A",
          "size": [
           4.1
          ],
          "sizemode": "area",
          "sizeref": 0.012,
          "symbol": "circle"
         },
         "mode": "markers",
         "name": " QA Engineer           ",
         "orientation": "v",
         "showlegend": true,
         "type": "scatter",
         "x": [
          4
         ],
         "xaxis": "x",
         "y": [
          65000
         ],
         "yaxis": "y"
        },
        {
         "customdata": [
          [
           "Operations",
           31
          ]
         ],
         "hovertemplate": "<b>%{hovertext}</b><br><br>Role= DevOps Engineer       <br>YearsOfExperience=%{x}<br>Salary=%{y}<br>PerformanceRating=%{marker.size}<br>Department=%{customdata[0]}<br>Age=%{customdata[1]}<extra></extra>",
         "hovertext": [
          " Alice      "
         ],
         "legendgroup": " DevOps Engineer       ",
         "marker": {
          "color": "#19d3f3",
          "size": [
           4.3
          ],
          "sizemode": "area",
          "sizeref": 0.012,
          "symbol": "circle"
         },
         "mode": "markers",
         "name": " DevOps Engineer       ",
         "orientation": "v",
         "showlegend": true,
         "type": "scatter",
         "x": [
          6
         ],
         "xaxis": "x",
         "y": [
          72000
         ],
         "yaxis": "y"
        },
        {
         "customdata": [
          [
           "Development",
           27
          ]
         ],
         "hovertemplate": "<b>%{hovertext}</b><br><br>Role= Backend Developer     <br>YearsOfExperience=%{x}<br>Salary=%{y}<br>PerformanceRating=%{marker.size}<br>Department=%{customdata[0]}<br>Age=%{customdata[1]}<extra></extra>",
         "hovertext": [
          " Robert     "
         ],
         "legendgroup": " Backend Developer     ",
         "marker": {
          "color": "#FF6692",
          "size": [
           4.4
          ],
          "sizemode": "area",
          "sizeref": 0.012,
          "symbol": "circle"
         },
         "mode": "markers",
         "name": " Backend Developer     ",
         "orientation": "v",
         "showlegend": true,
         "type": "scatter",
         "x": [
          4
         ],
         "xaxis": "x",
         "y": [
          71000
         ],
         "yaxis": "y"
        },
        {
         "customdata": [
          [
           "Development",
           25
          ]
         ],
         "hovertemplate": "<b>%{hovertext}</b><br><br>Role= Frontend Developer    <br>YearsOfExperience=%{x}<br>Salary=%{y}<br>PerformanceRating=%{marker.size}<br>Department=%{customdata[0]}<br>Age=%{customdata[1]}<extra></extra>",
         "hovertext": [
          " Laura      "
         ],
         "legendgroup": " Frontend Developer    ",
         "marker": {
          "color": "#B6E880",
          "size": [
           4
          ],
          "sizemode": "area",
          "sizeref": 0.012,
          "symbol": "circle"
         },
         "mode": "markers",
         "name": " Frontend Developer    ",
         "orientation": "v",
         "showlegend": true,
         "type": "scatter",
         "x": [
          2
         ],
         "xaxis": "x",
         "y": [
          69000
         ],
         "yaxis": "y"
        },
        {
         "customdata": [
          [
           "Human Resources",
           38
          ]
         ],
         "hovertemplate": "<b>%{hovertext}</b><br><br>Role= HR Manager            <br>YearsOfExperience=%{x}<br>Salary=%{y}<br>PerformanceRating=%{marker.size}<br>Department=%{customdata[0]}<br>Age=%{customdata[1]}<extra></extra>",
         "hovertext": [
          " James      "
         ],
         "legendgroup": " HR Manager            ",
         "marker": {
          "color": "#FF97FF",
          "size": [
           4.8
          ],
          "sizemode": "area",
          "sizeref": 0.012,
          "symbol": "circle"
         },
         "mode": "markers",
         "name": " HR Manager            ",
         "orientation": "v",
         "showlegend": true,
         "type": "scatter",
         "x": [
          12
         ],
         "xaxis": "x",
         "y": [
          73000
         ],
         "yaxis": "y"
        },
        {
         "customdata": [
          [
           "Marketing",
           30
          ]
         ],
         "hovertemplate": "<b>%{hovertext}</b><br><br>Role= Marketing Specialist  <br>YearsOfExperience=%{x}<br>Salary=%{y}<br>PerformanceRating=%{marker.size}<br>Department=%{customdata[0]}<br>Age=%{customdata[1]}<extra></extra>",
         "hovertext": [
          " Sarah      "
         ],
         "legendgroup": " Marketing Specialist  ",
         "marker": {
          "color": "#FECB52",
          "size": [
           4.2
          ],
          "sizemode": "area",
          "sizeref": 0.012,
          "symbol": "circle"
         },
         "mode": "markers",
         "name": " Marketing Specialist  ",
         "orientation": "v",
         "showlegend": true,
         "type": "scatter",
         "x": [
          5
         ],
         "xaxis": "x",
         "y": [
          67000
         ],
         "yaxis": "y"
        },
        {
         "customdata": [
          [
           "IT",
           33
          ]
         ],
         "hovertemplate": "<b>%{hovertext}</b><br><br>Role= Systems Analyst       <br>YearsOfExperience=%{x}<br>Salary=%{y}<br>PerformanceRating=%{marker.size}<br>Department=%{customdata[0]}<br>Age=%{customdata[1]}<extra></extra>",
         "hovertext": [
          " Christopher"
         ],
         "legendgroup": " Systems Analyst       ",
         "marker": {
          "color": "#636efa",
          "size": [
           4.5
          ],
          "sizemode": "area",
          "sizeref": 0.012,
          "symbol": "circle"
         },
         "mode": "markers",
         "name": " Systems Analyst       ",
         "orientation": "v",
         "showlegend": true,
         "type": "scatter",
         "x": [
          8
         ],
         "xaxis": "x",
         "y": [
          70000
         ],
         "yaxis": "y"
        },
        {
         "customdata": [
          [
           "Finance",
           29
          ]
         ],
         "hovertemplate": "<b>%{hovertext}</b><br><br>Role= Financial Analyst     <br>YearsOfExperience=%{x}<br>Salary=%{y}<br>PerformanceRating=%{marker.size}<br>Department=%{customdata[0]}<br>Age=%{customdata[1]}<extra></extra>",
         "hovertext": [
          " Jessica    "
         ],
         "legendgroup": " Financial Analyst     ",
         "marker": {
          "color": "#EF553B",
          "size": [
           4.3
          ],
          "sizemode": "area",
          "sizeref": 0.012,
          "symbol": "circle"
         },
         "mode": "markers",
         "name": " Financial Analyst     ",
         "orientation": "v",
         "showlegend": true,
         "type": "scatter",
         "x": [
          4
         ],
         "xaxis": "x",
         "y": [
          72000
         ],
         "yaxis": "y"
        },
        {
         "customdata": [
          [
           "Customer Service",
           28
          ]
         ],
         "hovertemplate": "<b>%{hovertext}</b><br><br>Role= Customer Support Lead <br>YearsOfExperience=%{x}<br>Salary=%{y}<br>PerformanceRating=%{marker.size}<br>Department=%{customdata[0]}<br>Age=%{customdata[1]}<extra></extra>",
         "hovertext": [
          " Daniel     "
         ],
         "legendgroup": " Customer Support Lead ",
         "marker": {
          "color": "#00cc96",
          "size": [
           4.1
          ],
          "sizemode": "area",
          "sizeref": 0.012,
          "symbol": "circle"
         },
         "mode": "markers",
         "name": " Customer Support Lead ",
         "orientation": "v",
         "showlegend": true,
         "type": "scatter",
         "x": [
          3
         ],
         "xaxis": "x",
         "y": [
          66000
         ],
         "yaxis": "y"
        },
        {
         "customdata": [
          [
           "Marketing",
           26
          ]
         ],
         "hovertemplate": "<b>%{hovertext}</b><br><br>Role= Content Writer        <br>YearsOfExperience=%{x}<br>Salary=%{y}<br>PerformanceRating=%{marker.size}<br>Department=%{customdata[0]}<br>Age=%{customdata[1]}<extra></extra>",
         "hovertext": [
          " Elizabeth  "
         ],
         "legendgroup": " Content Writer        ",
         "marker": {
          "color": "#ab63fa",
          "size": [
           4
          ],
          "sizemode": "area",
          "sizeref": 0.012,
          "symbol": "circle"
         },
         "mode": "markers",
         "name": " Content Writer        ",
         "orientation": "v",
         "showlegend": true,
         "type": "scatter",
         "x": [
          2
         ],
         "xaxis": "x",
         "y": [
          64000
         ],
         "yaxis": "y"
        },
        {
         "customdata": [
          [
           "Management",
           34
          ]
         ],
         "hovertemplate": "<b>%{hovertext}</b><br><br>Role= Business Analyst      <br>YearsOfExperience=%{x}<br>Salary=%{y}<br>PerformanceRating=%{marker.size}<br>Department=%{customdata[0]}<br>Age=%{customdata[1]}<extra></extra>",
         "hovertext": [
          " Matthew    "
         ],
         "legendgroup": " Business Analyst      ",
         "marker": {
          "color": "#FFA15A",
          "size": [
           4.6
          ],
          "sizemode": "area",
          "sizeref": 0.012,
          "symbol": "circle"
         },
         "mode": "markers",
         "name": " Business Analyst      ",
         "orientation": "v",
         "showlegend": true,
         "type": "scatter",
         "x": [
          9
         ],
         "xaxis": "x",
         "y": [
          74000
         ],
         "yaxis": "y"
        },
        {
         "customdata": [
          [
           "Data Science",
           30
          ]
         ],
         "hovertemplate": "<b>%{hovertext}</b><br><br>Role= Data Engineer         <br>YearsOfExperience=%{x}<br>Salary=%{y}<br>PerformanceRating=%{marker.size}<br>Department=%{customdata[0]}<br>Age=%{customdata[1]}<extra></extra>",
         "hovertext": [
          " Olivia     "
         ],
         "legendgroup": " Data Engineer         ",
         "marker": {
          "color": "#19d3f3",
          "size": [
           4.4
          ],
          "sizemode": "area",
          "sizeref": 0.012,
          "symbol": "circle"
         },
         "mode": "markers",
         "name": " Data Engineer         ",
         "orientation": "v",
         "showlegend": true,
         "type": "scatter",
         "x": [
          5
         ],
         "xaxis": "x",
         "y": [
          73000
         ],
         "yaxis": "y"
        },
        {
         "customdata": [
          [
           "IT",
           27
          ]
         ],
         "hovertemplate": "<b>%{hovertext}</b><br><br>Role= Network Engineer      <br>YearsOfExperience=%{x}<br>Salary=%{y}<br>PerformanceRating=%{marker.size}<br>Department=%{customdata[0]}<br>Age=%{customdata[1]}<extra></extra>",
         "hovertext": [
          " Liam       "
         ],
         "legendgroup": " Network Engineer      ",
         "marker": {
          "color": "#FF6692",
          "size": [
           4.3
          ],
          "sizemode": "area",
          "sizeref": 0.012,
          "symbol": "circle"
         },
         "mode": "markers",
         "name": " Network Engineer      ",
         "orientation": "v",
         "showlegend": true,
         "type": "scatter",
         "x": [
          4
         ],
         "xaxis": "x",
         "y": [
          69000
         ],
         "yaxis": "y"
        },
        {
         "customdata": [
          [
           "Design",
           25
          ]
         ],
         "hovertemplate": "<b>%{hovertext}</b><br><br>Role= Graphic Designer      <br>YearsOfExperience=%{x}<br>Salary=%{y}<br>PerformanceRating=%{marker.size}<br>Department=%{customdata[0]}<br>Age=%{customdata[1]}<extra></extra>",
         "hovertext": [
          " Ava        "
         ],
         "legendgroup": " Graphic Designer      ",
         "marker": {
          "color": "#B6E880",
          "size": [
           4
          ],
          "sizemode": "area",
          "sizeref": 0.012,
          "symbol": "circle"
         },
         "mode": "markers",
         "name": " Graphic Designer      ",
         "orientation": "v",
         "showlegend": true,
         "type": "scatter",
         "x": [
          3
         ],
         "xaxis": "x",
         "y": [
          60000
         ],
         "yaxis": "y"
        },
        {
         "customdata": [
          [
           "Operations",
           36
          ]
         ],
         "hovertemplate": "<b>%{hovertext}</b><br><br>Role= Operations Manager    <br>YearsOfExperience=%{x}<br>Salary=%{y}<br>PerformanceRating=%{marker.size}<br>Department=%{customdata[0]}<br>Age=%{customdata[1]}<extra></extra>",
         "hovertext": [
          " William    "
         ],
         "legendgroup": " Operations Manager    ",
         "marker": {
          "color": "#FF97FF",
          "size": [
           4.5
          ],
          "sizemode": "area",
          "sizeref": 0.012,
          "symbol": "circle"
         },
         "mode": "markers",
         "name": " Operations Manager    ",
         "orientation": "v",
         "showlegend": true,
         "type": "scatter",
         "x": [
          12
         ],
         "xaxis": "x",
         "y": [
          78000
         ],
         "yaxis": "y"
        },
        {
         "customdata": [
          [
           "Sales",
           32
          ]
         ],
         "hovertemplate": "<b>%{hovertext}</b><br><br>Role= Sales Manager         <br>YearsOfExperience=%{x}<br>Salary=%{y}<br>PerformanceRating=%{marker.size}<br>Department=%{customdata[0]}<br>Age=%{customdata[1]}<extra></extra>",
         "hovertext": [
          " Sophia     "
         ],
         "legendgroup": " Sales Manager         ",
         "marker": {
          "color": "#FECB52",
          "size": [
           4.6
          ],
          "sizemode": "area",
          "sizeref": 0.012,
          "symbol": "circle"
         },
         "mode": "markers",
         "name": " Sales Manager         ",
         "orientation": "v",
         "showlegend": true,
         "type": "scatter",
         "x": [
          8
         ],
         "xaxis": "x",
         "y": [
          75000
         ],
         "yaxis": "y"
        },
        {
         "customdata": [
          [
           "IT",
           40
          ]
         ],
         "hovertemplate": "<b>%{hovertext}</b><br><br>Role= Cloud Architect       <br>YearsOfExperience=%{x}<br>Salary=%{y}<br>PerformanceRating=%{marker.size}<br>Department=%{customdata[0]}<br>Age=%{customdata[1]}<extra></extra>",
         "hovertext": [
          " James      "
         ],
         "legendgroup": " Cloud Architect       ",
         "marker": {
          "color": "#636efa",
          "size": [
           4.7
          ],
          "sizemode": "area",
          "sizeref": 0.012,
          "symbol": "circle"
         },
         "mode": "markers",
         "name": " Cloud Architect       ",
         "orientation": "v",
         "showlegend": true,
         "type": "scatter",
         "x": [
          15
         ],
         "xaxis": "x",
         "y": [
          85000
         ],
         "yaxis": "y"
        },
        {
         "customdata": [
          [
           "Marketing",
           31
          ]
         ],
         "hovertemplate": "<b>%{hovertext}</b><br><br>Role= Marketing Manager     <br>YearsOfExperience=%{x}<br>Salary=%{y}<br>PerformanceRating=%{marker.size}<br>Department=%{customdata[0]}<br>Age=%{customdata[1]}<extra></extra>",
         "hovertext": [
          " Emma       "
         ],
         "legendgroup": " Marketing Manager     ",
         "marker": {
          "color": "#EF553B",
          "size": [
           4.4
          ],
          "sizemode": "area",
          "sizeref": 0.012,
          "symbol": "circle"
         },
         "mode": "markers",
         "name": " Marketing Manager     ",
         "orientation": "v",
         "showlegend": true,
         "type": "scatter",
         "x": [
          6
         ],
         "xaxis": "x",
         "y": [
          72000
         ],
         "yaxis": "y"
        },
        {
         "customdata": [
          [
           "Legal",
           37
          ]
         ],
         "hovertemplate": "<b>%{hovertext}</b><br><br>Role= Legal Advisor         <br>YearsOfExperience=%{x}<br>Salary=%{y}<br>PerformanceRating=%{marker.size}<br>Department=%{customdata[0]}<br>Age=%{customdata[1]}<extra></extra>",
         "hovertext": [
          " Benjamin   "
         ],
         "legendgroup": " Legal Advisor         ",
         "marker": {
          "color": "#00cc96",
          "size": [
           4.6
          ],
          "sizemode": "area",
          "sizeref": 0.012,
          "symbol": "circle"
         },
         "mode": "markers",
         "name": " Legal Advisor         ",
         "orientation": "v",
         "showlegend": true,
         "type": "scatter",
         "x": [
          10
         ],
         "xaxis": "x",
         "y": [
          82000
         ],
         "yaxis": "y"
        },
        {
         "customdata": [
          [
           "Human Resources",
           28
          ]
         ],
         "hovertemplate": "<b>%{hovertext}</b><br><br>Role= Recruitment Specialist<br>YearsOfExperience=%{x}<br>Salary=%{y}<br>PerformanceRating=%{marker.size}<br>Department=%{customdata[0]}<br>Age=%{customdata[1]}<extra></extra>",
         "hovertext": [
          " Charlotte  "
         ],
         "legendgroup": " Recruitment Specialist",
         "marker": {
          "color": "#ab63fa",
          "size": [
           4.1
          ],
          "sizemode": "area",
          "sizeref": 0.012,
          "symbol": "circle"
         },
         "mode": "markers",
         "name": " Recruitment Specialist",
         "orientation": "v",
         "showlegend": true,
         "type": "scatter",
         "x": [
          5
         ],
         "xaxis": "x",
         "y": [
          68000
         ],
         "yaxis": "y"
        },
        {
         "customdata": [
          [
           "Data Science",
           35
          ]
         ],
         "hovertemplate": "<b>%{hovertext}</b><br><br>Role= AI Researcher         <br>YearsOfExperience=%{x}<br>Salary=%{y}<br>PerformanceRating=%{marker.size}<br>Department=%{customdata[0]}<br>Age=%{customdata[1]}<extra></extra>",
         "hovertext": [
          " Lucas      "
         ],
         "legendgroup": " AI Researcher         ",
         "marker": {
          "color": "#FFA15A",
          "size": [
           4.8
          ],
          "sizemode": "area",
          "sizeref": 0.012,
          "symbol": "circle"
         },
         "mode": "markers",
         "name": " AI Researcher         ",
         "orientation": "v",
         "showlegend": true,
         "type": "scatter",
         "x": [
          10
         ],
         "xaxis": "x",
         "y": [
          86000
         ],
         "yaxis": "y"
        },
        {
         "customdata": [
          [
           "Management",
           29
          ]
         ],
         "hovertemplate": "<b>%{hovertext}</b><br><br>Role= Project Coordinator   <br>YearsOfExperience=%{x}<br>Salary=%{y}<br>PerformanceRating=%{marker.size}<br>Department=%{customdata[0]}<br>Age=%{customdata[1]}<extra></extra>",
         "hovertext": [
          " Mia        "
         ],
         "legendgroup": " Project Coordinator   ",
         "marker": {
          "color": "#19d3f3",
          "size": [
           4.2
          ],
          "sizemode": "area",
          "sizeref": 0.012,
          "symbol": "circle"
         },
         "mode": "markers",
         "name": " Project Coordinator   ",
         "orientation": "v",
         "showlegend": true,
         "type": "scatter",
         "x": [
          4
         ],
         "xaxis": "x",
         "y": [
          64000
         ],
         "yaxis": "y"
        },
        {
         "customdata": [
          [
           "Engineering",
           34
          ]
         ],
         "hovertemplate": "<b>%{hovertext}</b><br><br>Role= Electrical Engineer   <br>YearsOfExperience=%{x}<br>Salary=%{y}<br>PerformanceRating=%{marker.size}<br>Department=%{customdata[0]}<br>Age=%{customdata[1]}<extra></extra>",
         "hovertext": [
          " Henry      "
         ],
         "legendgroup": " Electrical Engineer   ",
         "marker": {
          "color": "#FF6692",
          "size": [
           4.5
          ],
          "sizemode": "area",
          "sizeref": 0.012,
          "symbol": "circle"
         },
         "mode": "markers",
         "name": " Electrical Engineer   ",
         "orientation": "v",
         "showlegend": true,
         "type": "scatter",
         "x": [
          9
         ],
         "xaxis": "x",
         "y": [
          78000
         ],
         "yaxis": "y"
        },
        {
         "customdata": [
          [
           "Marketing",
           27
          ]
         ],
         "hovertemplate": "<b>%{hovertext}</b><br><br>Role= Content Strategist    <br>YearsOfExperience=%{x}<br>Salary=%{y}<br>PerformanceRating=%{marker.size}<br>Department=%{customdata[0]}<br>Age=%{customdata[1]}<extra></extra>",
         "hovertext": [
          " Amelia     "
         ],
         "legendgroup": " Content Strategist    ",
         "marker": {
          "color": "#B6E880",
          "size": [
           4
          ],
          "sizemode": "area",
          "sizeref": 0.012,
          "symbol": "circle"
         },
         "mode": "markers",
         "name": " Content Strategist    ",
         "orientation": "v",
         "showlegend": true,
         "type": "scatter",
         "x": [
          3
         ],
         "xaxis": "x",
         "y": [
          63000
         ],
         "yaxis": "y"
        },
        {
         "customdata": [
          [
           "IT",
           29
          ]
         ],
         "hovertemplate": "<b>%{hovertext}</b><br><br>Role= Database Administrator<br>YearsOfExperience=%{x}<br>Salary=%{y}<br>PerformanceRating=%{marker.size}<br>Department=%{customdata[0]}<br>Age=%{customdata[1]}<extra></extra>",
         "hovertext": [
          " Alexander  "
         ],
         "legendgroup": " Database Administrator",
         "marker": {
          "color": "#FF97FF",
          "size": [
           4.3
          ],
          "sizemode": "area",
          "sizeref": 0.012,
          "symbol": "circle"
         },
         "mode": "markers",
         "name": " Database Administrator",
         "orientation": "v",
         "showlegend": true,
         "type": "scatter",
         "x": [
          6
         ],
         "xaxis": "x",
         "y": [
          73000
         ],
         "yaxis": "y"
        },
        {
         "customdata": [
          [
           "Customer Service",
           26
          ]
         ],
         "hovertemplate": "<b>%{hovertext}</b><br><br>Role= Customer Service Rep  <br>YearsOfExperience=%{x}<br>Salary=%{y}<br>PerformanceRating=%{marker.size}<br>Department=%{customdata[0]}<br>Age=%{customdata[1]}<extra></extra>",
         "hovertext": [
          " Isabella   "
         ],
         "legendgroup": " Customer Service Rep  ",
         "marker": {
          "color": "#FECB52",
          "size": [
           4
          ],
          "sizemode": "area",
          "sizeref": 0.012,
          "symbol": "circle"
         },
         "mode": "markers",
         "name": " Customer Service Rep  ",
         "orientation": "v",
         "showlegend": true,
         "type": "scatter",
         "x": [
          3
         ],
         "xaxis": "x",
         "y": [
          62000
         ],
         "yaxis": "y"
        },
        {
         "customdata": [
          [
           "IT",
           38
          ]
         ],
         "hovertemplate": "<b>%{hovertext}</b><br><br>Role= Security Specialist   <br>YearsOfExperience=%{x}<br>Salary=%{y}<br>PerformanceRating=%{marker.size}<br>Department=%{customdata[0]}<br>Age=%{customdata[1]}<extra></extra>",
         "hovertext": [
          " Samuel     "
         ],
         "legendgroup": " Security Specialist   ",
         "marker": {
          "color": "#636efa",
          "size": [
           4.6
          ],
          "sizemode": "area",
          "sizeref": 0.012,
          "symbol": "circle"
         },
         "mode": "markers",
         "name": " Security Specialist   ",
         "orientation": "v",
         "showlegend": true,
         "type": "scatter",
         "x": [
          13
         ],
         "xaxis": "x",
         "y": [
          80000
         ],
         "yaxis": "y"
        },
        {
         "customdata": [
          [
           "Marketing",
           30
          ]
         ],
         "hovertemplate": "<b>%{hovertext}</b><br><br>Role= SEO Specialist        <br>YearsOfExperience=%{x}<br>Salary=%{y}<br>PerformanceRating=%{marker.size}<br>Department=%{customdata[0]}<br>Age=%{customdata[1]}<extra></extra>",
         "hovertext": [
          " Evelyn     "
         ],
         "legendgroup": " SEO Specialist        ",
         "marker": {
          "color": "#EF553B",
          "size": [
           4.2
          ],
          "sizemode": "area",
          "sizeref": 0.012,
          "symbol": "circle"
         },
         "mode": "markers",
         "name": " SEO Specialist        ",
         "orientation": "v",
         "showlegend": true,
         "type": "scatter",
         "x": [
          4
         ],
         "xaxis": "x",
         "y": [
          65000
         ],
         "yaxis": "y"
        },
        {
         "customdata": [
          [
           "Data Science",
           33
          ]
         ],
         "hovertemplate": "<b>%{hovertext}</b><br><br>Role= Data Analyst          <br>YearsOfExperience=%{x}<br>Salary=%{y}<br>PerformanceRating=%{marker.size}<br>Department=%{customdata[0]}<br>Age=%{customdata[1]}<extra></extra>",
         "hovertext": [
          " David      "
         ],
         "legendgroup": " Data Analyst          ",
         "marker": {
          "color": "#00cc96",
          "size": [
           4.4
          ],
          "sizemode": "area",
          "sizeref": 0.012,
          "symbol": "circle"
         },
         "mode": "markers",
         "name": " Data Analyst          ",
         "orientation": "v",
         "showlegend": true,
         "type": "scatter",
         "x": [
          7
         ],
         "xaxis": "x",
         "y": [
          70000
         ],
         "yaxis": "y"
        },
        {
         "customdata": [
          [
           "Sales",
           27
          ]
         ],
         "hovertemplate": "<b>%{hovertext}</b><br><br>Role= Sales Executive       <br>YearsOfExperience=%{x}<br>Salary=%{y}<br>PerformanceRating=%{marker.size}<br>Department=%{customdata[0]}<br>Age=%{customdata[1]}<extra></extra>",
         "hovertext": [
          " Sofia      "
         ],
         "legendgroup": " Sales Executive       ",
         "marker": {
          "color": "#ab63fa",
          "size": [
           4.1
          ],
          "sizemode": "area",
          "sizeref": 0.012,
          "symbol": "circle"
         },
         "mode": "markers",
         "name": " Sales Executive       ",
         "orientation": "v",
         "showlegend": true,
         "type": "scatter",
         "x": [
          4
         ],
         "xaxis": "x",
         "y": [
          69000
         ],
         "yaxis": "y"
        },
        {
         "customdata": [
          [
           "Quality Assurance",
           31
          ]
         ],
         "hovertemplate": "<b>%{hovertext}</b><br><br>Role= Test Engineer         <br>YearsOfExperience=%{x}<br>Salary=%{y}<br>PerformanceRating=%{marker.size}<br>Department=%{customdata[0]}<br>Age=%{customdata[1]}<extra></extra>",
         "hovertext": [
          " Andrew     "
         ],
         "legendgroup": " Test Engineer         ",
         "marker": {
          "color": "#FFA15A",
          "size": [
           4
          ],
          "sizemode": "area",
          "sizeref": 0.012,
          "symbol": "circle"
         },
         "mode": "markers",
         "name": " Test Engineer         ",
         "orientation": "v",
         "showlegend": true,
         "type": "scatter",
         "x": [
          5
         ],
         "xaxis": "x",
         "y": [
          66000
         ],
         "yaxis": "y"
        },
        {
         "customdata": [
          [
           "Marketing",
           28
          ]
         ],
         "hovertemplate": "<b>%{hovertext}</b><br><br>Role= Event Planner         <br>YearsOfExperience=%{x}<br>Salary=%{y}<br>PerformanceRating=%{marker.size}<br>Department=%{customdata[0]}<br>Age=%{customdata[1]}<extra></extra>",
         "hovertext": [
          " Harper     "
         ],
         "legendgroup": " Event Planner         ",
         "marker": {
          "color": "#19d3f3",
          "size": [
           4.3
          ],
          "sizemode": "area",
          "sizeref": 0.012,
          "symbol": "circle"
         },
         "mode": "markers",
         "name": " Event Planner         ",
         "orientation": "v",
         "showlegend": true,
         "type": "scatter",
         "x": [
          3
         ],
         "xaxis": "x",
         "y": [
          62000
         ],
         "yaxis": "y"
        },
        {
         "customdata": [
          [
           "Data Science",
           36
          ]
         ],
         "hovertemplate": "<b>%{hovertext}</b><br><br>Role= AI Engineer           <br>YearsOfExperience=%{x}<br>Salary=%{y}<br>PerformanceRating=%{marker.size}<br>Department=%{customdata[0]}<br>Age=%{customdata[1]}<extra></extra>",
         "hovertext": [
          " Elijah     "
         ],
         "legendgroup": " AI Engineer           ",
         "marker": {
          "color": "#FF6692",
          "size": [
           4.8
          ],
          "sizemode": "area",
          "sizeref": 0.012,
          "symbol": "circle"
         },
         "mode": "markers",
         "name": " AI Engineer           ",
         "orientation": "v",
         "showlegend": true,
         "type": "scatter",
         "x": [
          11
         ],
         "xaxis": "x",
         "y": [
          89000
         ],
         "yaxis": "y"
        },
        {
         "customdata": [
          [
           "Human Resources",
           29
          ]
         ],
         "hovertemplate": "<b>%{hovertext}</b><br><br>Role= HR Coordinator        <br>YearsOfExperience=%{x}<br>Salary=%{y}<br>PerformanceRating=%{marker.size}<br>Department=%{customdata[0]}<br>Age=%{customdata[1]}<extra></extra>",
         "hovertext": [
          " Abigail    "
         ],
         "legendgroup": " HR Coordinator        ",
         "marker": {
          "color": "#B6E880",
          "size": [
           4.3
          ],
          "sizemode": "area",
          "sizeref": 0.012,
          "symbol": "circle"
         },
         "mode": "markers",
         "name": " HR Coordinator        ",
         "orientation": "v",
         "showlegend": true,
         "type": "scatter",
         "x": [
          4
         ],
         "xaxis": "x",
         "y": [
          67000
         ],
         "yaxis": "y"
        },
        {
         "customdata": [
          [
           "Development",
           34
          ]
         ],
         "hovertemplate": "<b>%{hovertext}</b><br><br>Role= Full Stack Developer  <br>YearsOfExperience=%{x}<br>Salary=%{y}<br>PerformanceRating=%{marker.size}<br>Department=%{customdata[0]}<br>Age=%{customdata[1]}<extra></extra>",
         "hovertext": [
          " Ethan      "
         ],
         "legendgroup": " Full Stack Developer  ",
         "marker": {
          "color": "#FF97FF",
          "size": [
           4.6
          ],
          "sizemode": "area",
          "sizeref": 0.012,
          "symbol": "circle"
         },
         "mode": "markers",
         "name": " Full Stack Developer  ",
         "orientation": "v",
         "showlegend": true,
         "type": "scatter",
         "x": [
          9
         ],
         "xaxis": "x",
         "y": [
          76000
         ],
         "yaxis": "y"
        },
        {
         "customdata": [
          [
           "Legal",
           32
          ]
         ],
         "hovertemplate": "<b>%{hovertext}</b><br><br>Role= Compliance Officer    <br>YearsOfExperience=%{x}<br>Salary=%{y}<br>PerformanceRating=%{marker.size}<br>Department=%{customdata[0]}<br>Age=%{customdata[1]}<extra></extra>",
         "hovertext": [
          " Emily      "
         ],
         "legendgroup": " Compliance Officer    ",
         "marker": {
          "color": "#FECB52",
          "size": [
           4.5
          ],
          "sizemode": "area",
          "sizeref": 0.012,
          "symbol": "circle"
         },
         "mode": "markers",
         "name": " Compliance Officer    ",
         "orientation": "v",
         "showlegend": true,
         "type": "scatter",
         "x": [
          7
         ],
         "xaxis": "x",
         "y": [
          74000
         ],
         "yaxis": "y"
        },
        {
         "customdata": [
          [
           "Operations",
           30
          ]
         ],
         "hovertemplate": "<b>%{hovertext}</b><br><br>Role= Operations Analyst    <br>YearsOfExperience=%{x}<br>Salary=%{y}<br>PerformanceRating=%{marker.size}<br>Department=%{customdata[0]}<br>Age=%{customdata[1]}<extra></extra>",
         "hovertext": [
          " Joshua     "
         ],
         "legendgroup": " Operations Analyst    ",
         "marker": {
          "color": "#636efa",
          "size": [
           4.2
          ],
          "sizemode": "area",
          "sizeref": 0.012,
          "symbol": "circle"
         },
         "mode": "markers",
         "name": " Operations Analyst    ",
         "orientation": "v",
         "showlegend": true,
         "type": "scatter",
         "x": [
          5
         ],
         "xaxis": "x",
         "y": [
          68000
         ],
         "yaxis": "y"
        },
        {
         "customdata": [
          [
           "Sales",
           33
          ]
         ],
         "hovertemplate": "<b>%{hovertext}</b><br><br>Role= Sales Consultant      <br>YearsOfExperience=%{x}<br>Salary=%{y}<br>PerformanceRating=%{marker.size}<br>Department=%{customdata[0]}<br>Age=%{customdata[1]}<extra></extra>",
         "hovertext": [
          " Sophia     "
         ],
         "legendgroup": " Sales Consultant      ",
         "marker": {
          "color": "#EF553B",
          "size": [
           4.3
          ],
          "sizemode": "area",
          "sizeref": 0.012,
          "symbol": "circle"
         },
         "mode": "markers",
         "name": " Sales Consultant      ",
         "orientation": "v",
         "showlegend": true,
         "type": "scatter",
         "x": [
          6
         ],
         "xaxis": "x",
         "y": [
          72000
         ],
         "yaxis": "y"
        },
        {
         "customdata": [
          [
           "Development",
           27
          ]
         ],
         "hovertemplate": "<b>%{hovertext}</b><br><br>Role= Web Developer         <br>YearsOfExperience=%{x}<br>Salary=%{y}<br>PerformanceRating=%{marker.size}<br>Department=%{customdata[0]}<br>Age=%{customdata[1]}<extra></extra>",
         "hovertext": [
          " Logan      "
         ],
         "legendgroup": " Web Developer         ",
         "marker": {
          "color": "#00cc96",
          "size": [
           4.2
          ],
          "sizemode": "area",
          "sizeref": 0.012,
          "symbol": "circle"
         },
         "mode": "markers",
         "name": " Web Developer         ",
         "orientation": "v",
         "showlegend": true,
         "type": "scatter",
         "x": [
          4
         ],
         "xaxis": "x",
         "y": [
          71000
         ],
         "yaxis": "y"
        },
        {
         "customdata": [
          [
           "Marketing",
           29
          ]
         ],
         "hovertemplate": "<b>%{hovertext}</b><br><br>Role= Brand Manager         <br>YearsOfExperience=%{x}<br>Salary=%{y}<br>PerformanceRating=%{marker.size}<br>Department=%{customdata[0]}<br>Age=%{customdata[1]}<extra></extra>",
         "hovertext": [
          " Avery      "
         ],
         "legendgroup": " Brand Manager         ",
         "marker": {
          "color": "#ab63fa",
          "size": [
           4
          ],
          "sizemode": "area",
          "sizeref": 0.012,
          "symbol": "circle"
         },
         "mode": "markers",
         "name": " Brand Manager         ",
         "orientation": "v",
         "showlegend": true,
         "type": "scatter",
         "x": [
          4
         ],
         "xaxis": "x",
         "y": [
          67000
         ],
         "yaxis": "y"
        },
        {
         "customdata": [
          [
           "Legal",
           26
          ]
         ],
         "hovertemplate": "<b>%{hovertext}</b><br><br>Role= Legal Assistant       <br>YearsOfExperience=%{x}<br>Salary=%{y}<br>PerformanceRating=%{marker.size}<br>Department=%{customdata[0]}<br>Age=%{customdata[1]}<extra></extra>",
         "hovertext": [
          " Noah       "
         ],
         "legendgroup": " Legal Assistant       ",
         "marker": {
          "color": "#FFA15A",
          "size": [
           4.2
          ],
          "sizemode": "area",
          "sizeref": 0.012,
          "symbol": "circle"
         },
         "mode": "markers",
         "name": " Legal Assistant       ",
         "orientation": "v",
         "showlegend": true,
         "type": "scatter",
         "x": [
          3
         ],
         "xaxis": "x",
         "y": [
          68000
         ],
         "yaxis": "y"
        },
        {
         "customdata": [
          [
           "Marketing",
           28
          ]
         ],
         "hovertemplate": "<b>%{hovertext}</b><br><br>Role= PR Specialist         <br>YearsOfExperience=%{x}<br>Salary=%{y}<br>PerformanceRating=%{marker.size}<br>Department=%{customdata[0]}<br>Age=%{customdata[1]}<extra></extra>",
         "hovertext": [
          " Charlotte  "
         ],
         "legendgroup": " PR Specialist         ",
         "marker": {
          "color": "#19d3f3",
          "size": [
           4.3
          ],
          "sizemode": "area",
          "sizeref": 0.012,
          "symbol": "circle"
         },
         "mode": "markers",
         "name": " PR Specialist         ",
         "orientation": "v",
         "showlegend": true,
         "type": "scatter",
         "x": [
          4
         ],
         "xaxis": "x",
         "y": [
          69000
         ],
         "yaxis": "y"
        },
        {
         "customdata": [
          [
           "Quality Assurance",
           30
          ]
         ],
         "hovertemplate": "<b>%{hovertext}</b><br><br>Role= Software Tester       <br>YearsOfExperience=%{x}<br>Salary=%{y}<br>PerformanceRating=%{marker.size}<br>Department=%{customdata[0]}<br>Age=%{customdata[1]}<extra></extra>",
         "hovertext": [
          " Lucas      "
         ],
         "legendgroup": " Software Tester       ",
         "marker": {
          "color": "#FF6692",
          "size": [
           4
          ],
          "sizemode": "area",
          "sizeref": 0.012,
          "symbol": "circle"
         },
         "mode": "markers",
         "name": " Software Tester       ",
         "orientation": "v",
         "showlegend": true,
         "type": "scatter",
         "x": [
          5
         ],
         "xaxis": "x",
         "y": [
          66000
         ],
         "yaxis": "y"
        },
        {
         "customdata": [
          [
           "Human Resources",
           32
          ]
         ],
         "hovertemplate": "<b>%{hovertext}</b><br><br>Role= Training Specialist   <br>YearsOfExperience=%{x}<br>Salary=%{y}<br>PerformanceRating=%{marker.size}<br>Department=%{customdata[0]}<br>Age=%{customdata[1]}<extra></extra>",
         "hovertext": [
          " Amelia     "
         ],
         "legendgroup": " Training Specialist   ",
         "marker": {
          "color": "#B6E880",
          "size": [
           4.4
          ],
          "sizemode": "area",
          "sizeref": 0.012,
          "symbol": "circle"
         },
         "mode": "markers",
         "name": " Training Specialist   ",
         "orientation": "v",
         "showlegend": true,
         "type": "scatter",
         "x": [
          7
         ],
         "xaxis": "x",
         "y": [
          70000
         ],
         "yaxis": "y"
        },
        {
         "customdata": [
          [
           "IT",
           36
          ]
         ],
         "hovertemplate": "<b>%{hovertext}</b><br><br>Role= System Administrator  <br>YearsOfExperience=%{x}<br>Salary=%{y}<br>PerformanceRating=%{marker.size}<br>Department=%{customdata[0]}<br>Age=%{customdata[1]}<extra></extra>",
         "hovertext": [
          " Jack       "
         ],
         "legendgroup": " System Administrator  ",
         "marker": {
          "color": "#FF97FF",
          "size": [
           4.6
          ],
          "sizemode": "area",
          "sizeref": 0.012,
          "symbol": "circle"
         },
         "mode": "markers",
         "name": " System Administrator  ",
         "orientation": "v",
         "showlegend": true,
         "type": "scatter",
         "x": [
          10
         ],
         "xaxis": "x",
         "y": [
          76000
         ],
         "yaxis": "y"
        },
        {
         "customdata": [
          [
           "Marketing",
           28
          ]
         ],
         "hovertemplate": "<b>%{hovertext}</b><br><br>Role= Market Analyst        <br>YearsOfExperience=%{x}<br>Salary=%{y}<br>PerformanceRating=%{marker.size}<br>Department=%{customdata[0]}<br>Age=%{customdata[1]}<extra></extra>",
         "hovertext": [
          " Mia        "
         ],
         "legendgroup": " Market Analyst        ",
         "marker": {
          "color": "#FECB52",
          "size": [
           4.1
          ],
          "sizemode": "area",
          "sizeref": 0.012,
          "symbol": "circle"
         },
         "mode": "markers",
         "name": " Market Analyst        ",
         "orientation": "v",
         "showlegend": true,
         "type": "scatter",
         "x": [
          3
         ],
         "xaxis": "x",
         "y": [
          67000
         ],
         "yaxis": "y"
        }
       ],
       "layout": {
        "legend": {
         "itemsizing": "constant",
         "title": {
          "text": "Role"
         },
         "tracegroupgap": 0
        },
        "margin": {
         "t": 60
        },
        "template": {
         "data": {
          "bar": [
           {
            "error_x": {
             "color": "#2a3f5f"
            },
            "error_y": {
             "color": "#2a3f5f"
            },
            "marker": {
             "line": {
              "color": "#E5ECF6",
              "width": 0.5
             },
             "pattern": {
              "fillmode": "overlay",
              "size": 10,
              "solidity": 0.2
             }
            },
            "type": "bar"
           }
          ],
          "barpolar": [
           {
            "marker": {
             "line": {
              "color": "#E5ECF6",
              "width": 0.5
             },
             "pattern": {
              "fillmode": "overlay",
              "size": 10,
              "solidity": 0.2
             }
            },
            "type": "barpolar"
           }
          ],
          "carpet": [
           {
            "aaxis": {
             "endlinecolor": "#2a3f5f",
             "gridcolor": "white",
             "linecolor": "white",
             "minorgridcolor": "white",
             "startlinecolor": "#2a3f5f"
            },
            "baxis": {
             "endlinecolor": "#2a3f5f",
             "gridcolor": "white",
             "linecolor": "white",
             "minorgridcolor": "white",
             "startlinecolor": "#2a3f5f"
            },
            "type": "carpet"
           }
          ],
          "choropleth": [
           {
            "colorbar": {
             "outlinewidth": 0,
             "ticks": ""
            },
            "type": "choropleth"
           }
          ],
          "contour": [
           {
            "colorbar": {
             "outlinewidth": 0,
             "ticks": ""
            },
            "colorscale": [
             [
              0,
              "#0d0887"
             ],
             [
              0.1111111111111111,
              "#46039f"
             ],
             [
              0.2222222222222222,
              "#7201a8"
             ],
             [
              0.3333333333333333,
              "#9c179e"
             ],
             [
              0.4444444444444444,
              "#bd3786"
             ],
             [
              0.5555555555555556,
              "#d8576b"
             ],
             [
              0.6666666666666666,
              "#ed7953"
             ],
             [
              0.7777777777777778,
              "#fb9f3a"
             ],
             [
              0.8888888888888888,
              "#fdca26"
             ],
             [
              1,
              "#f0f921"
             ]
            ],
            "type": "contour"
           }
          ],
          "contourcarpet": [
           {
            "colorbar": {
             "outlinewidth": 0,
             "ticks": ""
            },
            "type": "contourcarpet"
           }
          ],
          "heatmap": [
           {
            "colorbar": {
             "outlinewidth": 0,
             "ticks": ""
            },
            "colorscale": [
             [
              0,
              "#0d0887"
             ],
             [
              0.1111111111111111,
              "#46039f"
             ],
             [
              0.2222222222222222,
              "#7201a8"
             ],
             [
              0.3333333333333333,
              "#9c179e"
             ],
             [
              0.4444444444444444,
              "#bd3786"
             ],
             [
              0.5555555555555556,
              "#d8576b"
             ],
             [
              0.6666666666666666,
              "#ed7953"
             ],
             [
              0.7777777777777778,
              "#fb9f3a"
             ],
             [
              0.8888888888888888,
              "#fdca26"
             ],
             [
              1,
              "#f0f921"
             ]
            ],
            "type": "heatmap"
           }
          ],
          "heatmapgl": [
           {
            "colorbar": {
             "outlinewidth": 0,
             "ticks": ""
            },
            "colorscale": [
             [
              0,
              "#0d0887"
             ],
             [
              0.1111111111111111,
              "#46039f"
             ],
             [
              0.2222222222222222,
              "#7201a8"
             ],
             [
              0.3333333333333333,
              "#9c179e"
             ],
             [
              0.4444444444444444,
              "#bd3786"
             ],
             [
              0.5555555555555556,
              "#d8576b"
             ],
             [
              0.6666666666666666,
              "#ed7953"
             ],
             [
              0.7777777777777778,
              "#fb9f3a"
             ],
             [
              0.8888888888888888,
              "#fdca26"
             ],
             [
              1,
              "#f0f921"
             ]
            ],
            "type": "heatmapgl"
           }
          ],
          "histogram": [
           {
            "marker": {
             "pattern": {
              "fillmode": "overlay",
              "size": 10,
              "solidity": 0.2
             }
            },
            "type": "histogram"
           }
          ],
          "histogram2d": [
           {
            "colorbar": {
             "outlinewidth": 0,
             "ticks": ""
            },
            "colorscale": [
             [
              0,
              "#0d0887"
             ],
             [
              0.1111111111111111,
              "#46039f"
             ],
             [
              0.2222222222222222,
              "#7201a8"
             ],
             [
              0.3333333333333333,
              "#9c179e"
             ],
             [
              0.4444444444444444,
              "#bd3786"
             ],
             [
              0.5555555555555556,
              "#d8576b"
             ],
             [
              0.6666666666666666,
              "#ed7953"
             ],
             [
              0.7777777777777778,
              "#fb9f3a"
             ],
             [
              0.8888888888888888,
              "#fdca26"
             ],
             [
              1,
              "#f0f921"
             ]
            ],
            "type": "histogram2d"
           }
          ],
          "histogram2dcontour": [
           {
            "colorbar": {
             "outlinewidth": 0,
             "ticks": ""
            },
            "colorscale": [
             [
              0,
              "#0d0887"
             ],
             [
              0.1111111111111111,
              "#46039f"
             ],
             [
              0.2222222222222222,
              "#7201a8"
             ],
             [
              0.3333333333333333,
              "#9c179e"
             ],
             [
              0.4444444444444444,
              "#bd3786"
             ],
             [
              0.5555555555555556,
              "#d8576b"
             ],
             [
              0.6666666666666666,
              "#ed7953"
             ],
             [
              0.7777777777777778,
              "#fb9f3a"
             ],
             [
              0.8888888888888888,
              "#fdca26"
             ],
             [
              1,
              "#f0f921"
             ]
            ],
            "type": "histogram2dcontour"
           }
          ],
          "mesh3d": [
           {
            "colorbar": {
             "outlinewidth": 0,
             "ticks": ""
            },
            "type": "mesh3d"
           }
          ],
          "parcoords": [
           {
            "line": {
             "colorbar": {
              "outlinewidth": 0,
              "ticks": ""
             }
            },
            "type": "parcoords"
           }
          ],
          "pie": [
           {
            "automargin": true,
            "type": "pie"
           }
          ],
          "scatter": [
           {
            "fillpattern": {
             "fillmode": "overlay",
             "size": 10,
             "solidity": 0.2
            },
            "type": "scatter"
           }
          ],
          "scatter3d": [
           {
            "line": {
             "colorbar": {
              "outlinewidth": 0,
              "ticks": ""
             }
            },
            "marker": {
             "colorbar": {
              "outlinewidth": 0,
              "ticks": ""
             }
            },
            "type": "scatter3d"
           }
          ],
          "scattercarpet": [
           {
            "marker": {
             "colorbar": {
              "outlinewidth": 0,
              "ticks": ""
             }
            },
            "type": "scattercarpet"
           }
          ],
          "scattergeo": [
           {
            "marker": {
             "colorbar": {
              "outlinewidth": 0,
              "ticks": ""
             }
            },
            "type": "scattergeo"
           }
          ],
          "scattergl": [
           {
            "marker": {
             "colorbar": {
              "outlinewidth": 0,
              "ticks": ""
             }
            },
            "type": "scattergl"
           }
          ],
          "scattermapbox": [
           {
            "marker": {
             "colorbar": {
              "outlinewidth": 0,
              "ticks": ""
             }
            },
            "type": "scattermapbox"
           }
          ],
          "scatterpolar": [
           {
            "marker": {
             "colorbar": {
              "outlinewidth": 0,
              "ticks": ""
             }
            },
            "type": "scatterpolar"
           }
          ],
          "scatterpolargl": [
           {
            "marker": {
             "colorbar": {
              "outlinewidth": 0,
              "ticks": ""
             }
            },
            "type": "scatterpolargl"
           }
          ],
          "scatterternary": [
           {
            "marker": {
             "colorbar": {
              "outlinewidth": 0,
              "ticks": ""
             }
            },
            "type": "scatterternary"
           }
          ],
          "surface": [
           {
            "colorbar": {
             "outlinewidth": 0,
             "ticks": ""
            },
            "colorscale": [
             [
              0,
              "#0d0887"
             ],
             [
              0.1111111111111111,
              "#46039f"
             ],
             [
              0.2222222222222222,
              "#7201a8"
             ],
             [
              0.3333333333333333,
              "#9c179e"
             ],
             [
              0.4444444444444444,
              "#bd3786"
             ],
             [
              0.5555555555555556,
              "#d8576b"
             ],
             [
              0.6666666666666666,
              "#ed7953"
             ],
             [
              0.7777777777777778,
              "#fb9f3a"
             ],
             [
              0.8888888888888888,
              "#fdca26"
             ],
             [
              1,
              "#f0f921"
             ]
            ],
            "type": "surface"
           }
          ],
          "table": [
           {
            "cells": {
             "fill": {
              "color": "#EBF0F8"
             },
             "line": {
              "color": "white"
             }
            },
            "header": {
             "fill": {
              "color": "#C8D4E3"
             },
             "line": {
              "color": "white"
             }
            },
            "type": "table"
           }
          ]
         },
         "layout": {
          "annotationdefaults": {
           "arrowcolor": "#2a3f5f",
           "arrowhead": 0,
           "arrowwidth": 1
          },
          "autotypenumbers": "strict",
          "coloraxis": {
           "colorbar": {
            "outlinewidth": 0,
            "ticks": ""
           }
          },
          "colorscale": {
           "diverging": [
            [
             0,
             "#8e0152"
            ],
            [
             0.1,
             "#c51b7d"
            ],
            [
             0.2,
             "#de77ae"
            ],
            [
             0.3,
             "#f1b6da"
            ],
            [
             0.4,
             "#fde0ef"
            ],
            [
             0.5,
             "#f7f7f7"
            ],
            [
             0.6,
             "#e6f5d0"
            ],
            [
             0.7,
             "#b8e186"
            ],
            [
             0.8,
             "#7fbc41"
            ],
            [
             0.9,
             "#4d9221"
            ],
            [
             1,
             "#276419"
            ]
           ],
           "sequential": [
            [
             0,
             "#0d0887"
            ],
            [
             0.1111111111111111,
             "#46039f"
            ],
            [
             0.2222222222222222,
             "#7201a8"
            ],
            [
             0.3333333333333333,
             "#9c179e"
            ],
            [
             0.4444444444444444,
             "#bd3786"
            ],
            [
             0.5555555555555556,
             "#d8576b"
            ],
            [
             0.6666666666666666,
             "#ed7953"
            ],
            [
             0.7777777777777778,
             "#fb9f3a"
            ],
            [
             0.8888888888888888,
             "#fdca26"
            ],
            [
             1,
             "#f0f921"
            ]
           ],
           "sequentialminus": [
            [
             0,
             "#0d0887"
            ],
            [
             0.1111111111111111,
             "#46039f"
            ],
            [
             0.2222222222222222,
             "#7201a8"
            ],
            [
             0.3333333333333333,
             "#9c179e"
            ],
            [
             0.4444444444444444,
             "#bd3786"
            ],
            [
             0.5555555555555556,
             "#d8576b"
            ],
            [
             0.6666666666666666,
             "#ed7953"
            ],
            [
             0.7777777777777778,
             "#fb9f3a"
            ],
            [
             0.8888888888888888,
             "#fdca26"
            ],
            [
             1,
             "#f0f921"
            ]
           ]
          },
          "colorway": [
           "#636efa",
           "#EF553B",
           "#00cc96",
           "#ab63fa",
           "#FFA15A",
           "#19d3f3",
           "#FF6692",
           "#B6E880",
           "#FF97FF",
           "#FECB52"
          ],
          "font": {
           "color": "#2a3f5f"
          },
          "geo": {
           "bgcolor": "white",
           "lakecolor": "white",
           "landcolor": "#E5ECF6",
           "showlakes": true,
           "showland": true,
           "subunitcolor": "white"
          },
          "hoverlabel": {
           "align": "left"
          },
          "hovermode": "closest",
          "mapbox": {
           "style": "light"
          },
          "paper_bgcolor": "white",
          "plot_bgcolor": "#E5ECF6",
          "polar": {
           "angularaxis": {
            "gridcolor": "white",
            "linecolor": "white",
            "ticks": ""
           },
           "bgcolor": "#E5ECF6",
           "radialaxis": {
            "gridcolor": "white",
            "linecolor": "white",
            "ticks": ""
           }
          },
          "scene": {
           "xaxis": {
            "backgroundcolor": "#E5ECF6",
            "gridcolor": "white",
            "gridwidth": 2,
            "linecolor": "white",
            "showbackground": true,
            "ticks": "",
            "zerolinecolor": "white"
           },
           "yaxis": {
            "backgroundcolor": "#E5ECF6",
            "gridcolor": "white",
            "gridwidth": 2,
            "linecolor": "white",
            "showbackground": true,
            "ticks": "",
            "zerolinecolor": "white"
           },
           "zaxis": {
            "backgroundcolor": "#E5ECF6",
            "gridcolor": "white",
            "gridwidth": 2,
            "linecolor": "white",
            "showbackground": true,
            "ticks": "",
            "zerolinecolor": "white"
           }
          },
          "shapedefaults": {
           "line": {
            "color": "#2a3f5f"
           }
          },
          "ternary": {
           "aaxis": {
            "gridcolor": "white",
            "linecolor": "white",
            "ticks": ""
           },
           "baxis": {
            "gridcolor": "white",
            "linecolor": "white",
            "ticks": ""
           },
           "bgcolor": "#E5ECF6",
           "caxis": {
            "gridcolor": "white",
            "linecolor": "white",
            "ticks": ""
           }
          },
          "title": {
           "x": 0.05
          },
          "xaxis": {
           "automargin": true,
           "gridcolor": "white",
           "linecolor": "white",
           "ticks": "",
           "title": {
            "standoff": 15
           },
           "zerolinecolor": "white",
           "zerolinewidth": 2
          },
          "yaxis": {
           "automargin": true,
           "gridcolor": "white",
           "linecolor": "white",
           "ticks": "",
           "title": {
            "standoff": 15
           },
           "zerolinecolor": "white",
           "zerolinewidth": 2
          }
         }
        },
        "xaxis": {
         "anchor": "y",
         "domain": [
          0,
          1
         ],
         "title": {
          "text": "YearsOfExperience"
         }
        },
        "yaxis": {
         "anchor": "x",
         "domain": [
          0,
          1
         ],
         "title": {
          "text": "Salary"
         }
        }
       }
      }
     },
     "metadata": {},
     "output_type": "display_data"
    }
   ],
   "source": [
    "import plotly.express as px\n",
    "\n",
    "# Create a scatter plot\n",
    "fig = px.scatter(df, x='YearsOfExperience', y='Salary', color='Role', size='PerformanceRating',\n",
    "                 hover_name='FirstName', hover_data=['Department', 'Age'])\n",
    "\n",
    "# Show the plot\n",
    "fig.show()"
   ]
  }
 ],
 "metadata": {
  "kernelspec": {
   "display_name": "Python 3",
   "language": "python",
   "name": "python3"
  },
  "language_info": {
   "codemirror_mode": {
    "name": "ipython",
    "version": 3
   },
   "file_extension": ".py",
   "mimetype": "text/x-python",
   "name": "python",
   "nbconvert_exporter": "python",
   "pygments_lexer": "ipython3",
   "version": "3.12.5"
  }
 },
 "nbformat": 4,
 "nbformat_minor": 2
}
