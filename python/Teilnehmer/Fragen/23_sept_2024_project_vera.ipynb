{
 "cells": [
  {
   "cell_type": "code",
   "execution_count": 1,
   "metadata": {},
   "outputs": [
    {
     "data": {
      "text/plain": [
       "Index(['age_upon_outcome', 'animal_id_outcome', 'date_of_birth',\n",
       "       'outcome_subtype', 'outcome_type', 'sex_upon_outcome',\n",
       "       'age_upon_outcome_(days)', 'age_upon_outcome_(years)',\n",
       "       'age_upon_outcome_age_group', 'outcome_datetime', 'outcome_month',\n",
       "       'outcome_year', 'outcome_monthyear', 'outcome_weekday', 'outcome_hour',\n",
       "       'outcome_number', 'dob_year', 'dob_month', 'dob_monthyear',\n",
       "       'age_upon_intake', 'animal_id_intake', 'animal_type', 'breed', 'color',\n",
       "       'found_location', 'intake_condition', 'intake_type', 'sex_upon_intake',\n",
       "       'count', 'age_upon_intake_(days)', 'age_upon_intake_(years)',\n",
       "       'age_upon_intake_age_group', 'intake_datetime', 'intake_month',\n",
       "       'intake_year', 'intake_monthyear', 'intake_weekday', 'intake_hour',\n",
       "       'intake_number', 'time_in_shelter', 'time_in_shelter_days'],\n",
       "      dtype='object')"
      ]
     },
     "execution_count": 1,
     "metadata": {},
     "output_type": "execute_result"
    }
   ],
   "source": [
    "#### analysis of animal shelter data ###\n",
    "import pandas as pd\n",
    "import matplotlib.pyplot as plt\n",
    "import seaborn as sns\n",
    "import numpy as np\n",
    "\n",
    "## Load the data\n",
    "# source: \n",
    "# https://www.kaggle.com/datasets/aaronschlegel/austin-animal-center-shelter-intakes-and-outcomes?resource=download\n",
    "\n",
    "data = pd.read_csv('aac_intakes_outcomes.csv')\n",
    "\n",
    "df = pd.DataFrame(data)\n",
    "#df.head(20)\n",
    "df.columns\n",
    "\n",
    "#len(df)\n",
    "#79672\n",
    "\n",
    "#len(df.columns)\n",
    "#41"
   ]
  },
  {
   "cell_type": "code",
   "execution_count": 2,
   "metadata": {},
   "outputs": [
    {
     "ename": "DateParseError",
     "evalue": "month must be in 1..12: 1998--19 00:00:00, at position 19",
     "output_type": "error",
     "traceback": [
      "\u001b[1;31m---------------------------------------------------------------------------\u001b[0m",
      "\u001b[1;31mValueError\u001b[0m                                Traceback (most recent call last)",
      "File \u001b[1;32mparsing.pyx:684\u001b[0m, in \u001b[0;36mpandas._libs.tslibs.parsing.dateutil_parse\u001b[1;34m()\u001b[0m\n",
      "\u001b[1;31mValueError\u001b[0m: month must be in 1..12",
      "\nThe above exception was the direct cause of the following exception:\n",
      "\u001b[1;31mDateParseError\u001b[0m                            Traceback (most recent call last)",
      "Cell \u001b[1;32mIn[2], line 5\u001b[0m\n\u001b[0;32m      1\u001b[0m \u001b[38;5;66;03m## data cleaning\u001b[39;00m\n\u001b[0;32m      2\u001b[0m \n\u001b[0;32m      3\u001b[0m \u001b[38;5;66;03m# convert cols with dates to datetime format\u001b[39;00m\n\u001b[0;32m      4\u001b[0m \u001b[38;5;28;01mfor\u001b[39;00m col \u001b[38;5;129;01min\u001b[39;00m [\u001b[38;5;124m'\u001b[39m\u001b[38;5;124mdate_of_birth\u001b[39m\u001b[38;5;124m'\u001b[39m, \u001b[38;5;124m'\u001b[39m\u001b[38;5;124moutcome_datetime\u001b[39m\u001b[38;5;124m'\u001b[39m, \u001b[38;5;124m'\u001b[39m\u001b[38;5;124moutcome_year\u001b[39m\u001b[38;5;124m'\u001b[39m, \u001b[38;5;124m'\u001b[39m\u001b[38;5;124moutcome_month\u001b[39m\u001b[38;5;124m'\u001b[39m, \u001b[38;5;124m'\u001b[39m\u001b[38;5;124mdob_year\u001b[39m\u001b[38;5;124m'\u001b[39m, \u001b[38;5;124m'\u001b[39m\u001b[38;5;124mdob_month\u001b[39m\u001b[38;5;124m'\u001b[39m, \u001b[38;5;124m'\u001b[39m\u001b[38;5;124mdob_monthyear\u001b[39m\u001b[38;5;124m'\u001b[39m, \u001b[38;5;124m'\u001b[39m\u001b[38;5;124mintake_datetime\u001b[39m\u001b[38;5;124m'\u001b[39m, \u001b[38;5;124m'\u001b[39m\u001b[38;5;124mintake_month\u001b[39m\u001b[38;5;124m'\u001b[39m, \u001b[38;5;124m'\u001b[39m\u001b[38;5;124mintake_year\u001b[39m\u001b[38;5;124m'\u001b[39m, \u001b[38;5;124m'\u001b[39m\u001b[38;5;124mintake_monthyear\u001b[39m\u001b[38;5;124m'\u001b[39m]:\n\u001b[1;32m----> 5\u001b[0m    df[col] \u001b[38;5;241m=\u001b[39m \u001b[43mpd\u001b[49m\u001b[38;5;241;43m.\u001b[39;49m\u001b[43mto_datetime\u001b[49m\u001b[43m(\u001b[49m\u001b[43mdf\u001b[49m\u001b[43m[\u001b[49m\u001b[43mcol\u001b[49m\u001b[43m]\u001b[49m\u001b[43m,\u001b[49m\u001b[43m \u001b[49m\u001b[38;5;28;43mformat\u001b[39;49m\u001b[38;5;241;43m=\u001b[39;49m\u001b[38;5;124;43m'\u001b[39;49m\u001b[38;5;124;43mmixed\u001b[39;49m\u001b[38;5;124;43m'\u001b[39;49m\u001b[43m)\u001b[49m\n",
      "File \u001b[1;32mc:\\Users\\Nenad\\AppData\\Local\\Programs\\Python\\Python312\\Lib\\site-packages\\pandas\\core\\tools\\datetimes.py:1067\u001b[0m, in \u001b[0;36mto_datetime\u001b[1;34m(arg, errors, dayfirst, yearfirst, utc, format, exact, unit, infer_datetime_format, origin, cache)\u001b[0m\n\u001b[0;32m   1065\u001b[0m         result \u001b[38;5;241m=\u001b[39m arg\u001b[38;5;241m.\u001b[39mmap(cache_array)\n\u001b[0;32m   1066\u001b[0m     \u001b[38;5;28;01melse\u001b[39;00m:\n\u001b[1;32m-> 1067\u001b[0m         values \u001b[38;5;241m=\u001b[39m \u001b[43mconvert_listlike\u001b[49m\u001b[43m(\u001b[49m\u001b[43marg\u001b[49m\u001b[38;5;241;43m.\u001b[39;49m\u001b[43m_values\u001b[49m\u001b[43m,\u001b[49m\u001b[43m \u001b[49m\u001b[38;5;28;43mformat\u001b[39;49m\u001b[43m)\u001b[49m\n\u001b[0;32m   1068\u001b[0m         result \u001b[38;5;241m=\u001b[39m arg\u001b[38;5;241m.\u001b[39m_constructor(values, index\u001b[38;5;241m=\u001b[39marg\u001b[38;5;241m.\u001b[39mindex, name\u001b[38;5;241m=\u001b[39marg\u001b[38;5;241m.\u001b[39mname)\n\u001b[0;32m   1069\u001b[0m \u001b[38;5;28;01melif\u001b[39;00m \u001b[38;5;28misinstance\u001b[39m(arg, (ABCDataFrame, abc\u001b[38;5;241m.\u001b[39mMutableMapping)):\n",
      "File \u001b[1;32mc:\\Users\\Nenad\\AppData\\Local\\Programs\\Python\\Python312\\Lib\\site-packages\\pandas\\core\\tools\\datetimes.py:435\u001b[0m, in \u001b[0;36m_convert_listlike_datetimes\u001b[1;34m(arg, format, name, utc, unit, errors, dayfirst, yearfirst, exact)\u001b[0m\n\u001b[0;32m    432\u001b[0m \u001b[38;5;28;01mif\u001b[39;00m \u001b[38;5;28mformat\u001b[39m \u001b[38;5;129;01mis\u001b[39;00m \u001b[38;5;129;01mnot\u001b[39;00m \u001b[38;5;28;01mNone\u001b[39;00m \u001b[38;5;129;01mand\u001b[39;00m \u001b[38;5;28mformat\u001b[39m \u001b[38;5;241m!=\u001b[39m \u001b[38;5;124m\"\u001b[39m\u001b[38;5;124mmixed\u001b[39m\u001b[38;5;124m\"\u001b[39m:\n\u001b[0;32m    433\u001b[0m     \u001b[38;5;28;01mreturn\u001b[39;00m _array_strptime_with_fallback(arg, name, utc, \u001b[38;5;28mformat\u001b[39m, exact, errors)\n\u001b[1;32m--> 435\u001b[0m result, tz_parsed \u001b[38;5;241m=\u001b[39m \u001b[43mobjects_to_datetime64\u001b[49m\u001b[43m(\u001b[49m\n\u001b[0;32m    436\u001b[0m \u001b[43m    \u001b[49m\u001b[43marg\u001b[49m\u001b[43m,\u001b[49m\n\u001b[0;32m    437\u001b[0m \u001b[43m    \u001b[49m\u001b[43mdayfirst\u001b[49m\u001b[38;5;241;43m=\u001b[39;49m\u001b[43mdayfirst\u001b[49m\u001b[43m,\u001b[49m\n\u001b[0;32m    438\u001b[0m \u001b[43m    \u001b[49m\u001b[43myearfirst\u001b[49m\u001b[38;5;241;43m=\u001b[39;49m\u001b[43myearfirst\u001b[49m\u001b[43m,\u001b[49m\n\u001b[0;32m    439\u001b[0m \u001b[43m    \u001b[49m\u001b[43mutc\u001b[49m\u001b[38;5;241;43m=\u001b[39;49m\u001b[43mutc\u001b[49m\u001b[43m,\u001b[49m\n\u001b[0;32m    440\u001b[0m \u001b[43m    \u001b[49m\u001b[43merrors\u001b[49m\u001b[38;5;241;43m=\u001b[39;49m\u001b[43merrors\u001b[49m\u001b[43m,\u001b[49m\n\u001b[0;32m    441\u001b[0m \u001b[43m    \u001b[49m\u001b[43mallow_object\u001b[49m\u001b[38;5;241;43m=\u001b[39;49m\u001b[38;5;28;43;01mTrue\u001b[39;49;00m\u001b[43m,\u001b[49m\n\u001b[0;32m    442\u001b[0m \u001b[43m\u001b[49m\u001b[43m)\u001b[49m\n\u001b[0;32m    444\u001b[0m \u001b[38;5;28;01mif\u001b[39;00m tz_parsed \u001b[38;5;129;01mis\u001b[39;00m \u001b[38;5;129;01mnot\u001b[39;00m \u001b[38;5;28;01mNone\u001b[39;00m:\n\u001b[0;32m    445\u001b[0m     \u001b[38;5;66;03m# We can take a shortcut since the datetime64 numpy array\u001b[39;00m\n\u001b[0;32m    446\u001b[0m     \u001b[38;5;66;03m# is in UTC\u001b[39;00m\n\u001b[0;32m    447\u001b[0m     out_unit \u001b[38;5;241m=\u001b[39m np\u001b[38;5;241m.\u001b[39mdatetime_data(result\u001b[38;5;241m.\u001b[39mdtype)[\u001b[38;5;241m0\u001b[39m]\n",
      "File \u001b[1;32mc:\\Users\\Nenad\\AppData\\Local\\Programs\\Python\\Python312\\Lib\\site-packages\\pandas\\core\\arrays\\datetimes.py:2398\u001b[0m, in \u001b[0;36mobjects_to_datetime64\u001b[1;34m(data, dayfirst, yearfirst, utc, errors, allow_object, out_unit)\u001b[0m\n\u001b[0;32m   2395\u001b[0m \u001b[38;5;66;03m# if str-dtype, convert\u001b[39;00m\n\u001b[0;32m   2396\u001b[0m data \u001b[38;5;241m=\u001b[39m np\u001b[38;5;241m.\u001b[39masarray(data, dtype\u001b[38;5;241m=\u001b[39mnp\u001b[38;5;241m.\u001b[39mobject_)\n\u001b[1;32m-> 2398\u001b[0m result, tz_parsed \u001b[38;5;241m=\u001b[39m \u001b[43mtslib\u001b[49m\u001b[38;5;241;43m.\u001b[39;49m\u001b[43marray_to_datetime\u001b[49m\u001b[43m(\u001b[49m\n\u001b[0;32m   2399\u001b[0m \u001b[43m    \u001b[49m\u001b[43mdata\u001b[49m\u001b[43m,\u001b[49m\n\u001b[0;32m   2400\u001b[0m \u001b[43m    \u001b[49m\u001b[43merrors\u001b[49m\u001b[38;5;241;43m=\u001b[39;49m\u001b[43merrors\u001b[49m\u001b[43m,\u001b[49m\n\u001b[0;32m   2401\u001b[0m \u001b[43m    \u001b[49m\u001b[43mutc\u001b[49m\u001b[38;5;241;43m=\u001b[39;49m\u001b[43mutc\u001b[49m\u001b[43m,\u001b[49m\n\u001b[0;32m   2402\u001b[0m \u001b[43m    \u001b[49m\u001b[43mdayfirst\u001b[49m\u001b[38;5;241;43m=\u001b[39;49m\u001b[43mdayfirst\u001b[49m\u001b[43m,\u001b[49m\n\u001b[0;32m   2403\u001b[0m \u001b[43m    \u001b[49m\u001b[43myearfirst\u001b[49m\u001b[38;5;241;43m=\u001b[39;49m\u001b[43myearfirst\u001b[49m\u001b[43m,\u001b[49m\n\u001b[0;32m   2404\u001b[0m \u001b[43m    \u001b[49m\u001b[43mcreso\u001b[49m\u001b[38;5;241;43m=\u001b[39;49m\u001b[43mabbrev_to_npy_unit\u001b[49m\u001b[43m(\u001b[49m\u001b[43mout_unit\u001b[49m\u001b[43m)\u001b[49m\u001b[43m,\u001b[49m\n\u001b[0;32m   2405\u001b[0m \u001b[43m\u001b[49m\u001b[43m)\u001b[49m\n\u001b[0;32m   2407\u001b[0m \u001b[38;5;28;01mif\u001b[39;00m tz_parsed \u001b[38;5;129;01mis\u001b[39;00m \u001b[38;5;129;01mnot\u001b[39;00m \u001b[38;5;28;01mNone\u001b[39;00m:\n\u001b[0;32m   2408\u001b[0m     \u001b[38;5;66;03m# We can take a shortcut since the datetime64 numpy array\u001b[39;00m\n\u001b[0;32m   2409\u001b[0m     \u001b[38;5;66;03m#  is in UTC\u001b[39;00m\n\u001b[0;32m   2410\u001b[0m     \u001b[38;5;28;01mreturn\u001b[39;00m result, tz_parsed\n",
      "File \u001b[1;32mtslib.pyx:414\u001b[0m, in \u001b[0;36mpandas._libs.tslib.array_to_datetime\u001b[1;34m()\u001b[0m\n",
      "File \u001b[1;32mtslib.pyx:596\u001b[0m, in \u001b[0;36mpandas._libs.tslib.array_to_datetime\u001b[1;34m()\u001b[0m\n",
      "File \u001b[1;32mtslib.pyx:553\u001b[0m, in \u001b[0;36mpandas._libs.tslib.array_to_datetime\u001b[1;34m()\u001b[0m\n",
      "File \u001b[1;32mconversion.pyx:641\u001b[0m, in \u001b[0;36mpandas._libs.tslibs.conversion.convert_str_to_tsobject\u001b[1;34m()\u001b[0m\n",
      "File \u001b[1;32mparsing.pyx:336\u001b[0m, in \u001b[0;36mpandas._libs.tslibs.parsing.parse_datetime_string\u001b[1;34m()\u001b[0m\n",
      "File \u001b[1;32mparsing.pyx:688\u001b[0m, in \u001b[0;36mpandas._libs.tslibs.parsing.dateutil_parse\u001b[1;34m()\u001b[0m\n",
      "\u001b[1;31mDateParseError\u001b[0m: month must be in 1..12: 1998--19 00:00:00, at position 19"
     ]
    }
   ],
   "source": [
    "## data cleaning\n",
    "\n",
    "# convert cols with dates to datetime format\n",
    "for col in ['date_of_birth', 'outcome_datetime', 'outcome_year', 'outcome_month', 'dob_year', 'dob_month', 'dob_monthyear', 'intake_datetime', 'intake_month', 'intake_year', 'intake_monthyear']:\n",
    "   df[col] = pd.to_datetime(df[col], format='mixed')\n"
   ]
  },
  {
   "cell_type": "code",
   "execution_count": null,
   "metadata": {},
   "outputs": [],
   "source": [
    "# check for NaNs\n",
    "print('columns with \"NaN\" strings')\n",
    "print('----------')\n",
    "\n",
    "nan_counts = df.isna().sum()\n",
    "\n",
    "# print the result\n",
    "print(nan_counts)\n"
   ]
  },
  {
   "cell_type": "code",
   "execution_count": 4,
   "metadata": {},
   "outputs": [],
   "source": [
    "# check for missing values\n",
    "#print('missing values:')\n",
    "#print('---------')\n",
    "#print(df.isnull().sum())\n"
   ]
  },
  {
   "cell_type": "code",
   "execution_count": null,
   "metadata": {},
   "outputs": [],
   "source": [
    "df.outcome_subtype.unique()\n",
    "df.outcome_type.unique()\n",
    "\n",
    "# replace null values in the outcome_subtype column with 'unknown'\n",
    "df.outcome_subtype.fillna('unknown', inplace=True)\n",
    "\n",
    "# verifying the outcome subtypes\n",
    "print(df.outcome_subtype.unique())\n",
    "\n",
    "# replace null values in outcome_type column with 'Unknown'\n",
    "df.outcome_type.fillna('unknown', inplace=True)\n",
    "\n",
    "# verifying the outcome types\n",
    "print(df.outcome_type.unique())\n"
   ]
  },
  {
   "cell_type": "code",
   "execution_count": 6,
   "metadata": {},
   "outputs": [],
   "source": [
    "### possible questions:\n",
    "## dogs\n",
    "# length of stay/outcome type by breed/colour/age \n",
    "# (more positive for breeds such as labs? more negative for black animals?)\n",
    "# euthanasia rates over time (fewer nowadays?)\n",
    "# intake type over time (more owner surrender?)"
   ]
  },
  {
   "cell_type": "code",
   "execution_count": null,
   "metadata": {},
   "outputs": [],
   "source": [
    "# test if column 'animal_id_outcome' is the same as 'animal_id_intake'\n",
    "df.head(3)\n",
    "df['animal_id_intake'].equals(df['animal_id_outcome'])  # Returns True"
   ]
  },
  {
   "cell_type": "code",
   "execution_count": null,
   "metadata": {},
   "outputs": [],
   "source": [
    "## filtering and subsetting\n",
    "# generate a subset of the dataframe to address specific questions\n",
    "\n",
    "df_analysis = df[['animal_id_intake', 'animal_type', 'intake_type', 'intake_condition', 'sex_upon_intake', 'age_upon_intake_(years)', 'age_upon_intake_age_group','breed', 'color', 'time_in_shelter_days', 'outcome_subtype', 'intake_monthyear', 'outcome_monthyear', 'outcome_year', 'outcome_type', 'count']]\n",
    "df_analysis.columns\n"
   ]
  },
  {
   "cell_type": "code",
   "execution_count": null,
   "metadata": {},
   "outputs": [],
   "source": [
    "# generate dog df\n",
    "df_dogs = df_analysis[df_analysis['animal_type']=='Dog']\n",
    "len(df_dogs)\n",
    "\n",
    "# check if it's indeed only dogs\n",
    "df_dogs['animal_type'].unique()\n"
   ]
  },
  {
   "cell_type": "code",
   "execution_count": null,
   "metadata": {},
   "outputs": [],
   "source": [
    "# count number of unique dogs total\n",
    "tot_dogs = df_dogs['animal_id_intake'].unique()\n",
    "\n",
    "print(len(tot_dogs))\n",
    "#38909 dogs"
   ]
  },
  {
   "cell_type": "code",
   "execution_count": null,
   "metadata": {},
   "outputs": [],
   "source": [
    "# number of dogs per intake_type\n",
    "df_dogs.head()\n",
    "\n",
    "dogs_per_intake_type = df_dogs.groupby('intake_type').count().reset_index()\n",
    "dogs_per_intake_type\n",
    "\n"
   ]
  },
  {
   "cell_type": "code",
   "execution_count": null,
   "metadata": {},
   "outputs": [],
   "source": [
    "# plot\n",
    "plt.figure(figsize=(10,4))\n",
    "sns.barplot(x='intake_type',y='count', data = dogs_per_intake_type)\n",
    "plt.xlabel('intake type')\n",
    "plt.ylabel('count')\n",
    "plt.tight_layout()\n",
    "plt.show()\n"
   ]
  },
  {
   "cell_type": "code",
   "execution_count": 13,
   "metadata": {},
   "outputs": [],
   "source": [
    "# count of dogs per age_upon_intake_age_group\n",
    "dogs_by_age = df_dogs.groupby('age_upon_intake_(years)').count().reset_index()\n",
    "#dogs_by_age\n"
   ]
  },
  {
   "cell_type": "code",
   "execution_count": null,
   "metadata": {},
   "outputs": [],
   "source": [
    "# histogram of intake ages\n",
    "plt.figure(figsize=(10,4))\n",
    "sns.histplot(df_dogs['age_upon_intake_(years)'], bins=21)\n",
    "plt.xlabel('age at intake [years]')\n",
    "plt.ylabel('count')\n",
    "plt.tight_layout()\n",
    "plt.show()"
   ]
  },
  {
   "cell_type": "code",
   "execution_count": null,
   "metadata": {},
   "outputs": [],
   "source": [
    "# test if a similar picture emerges if ages are grouped into age groups\n",
    "# first find unique values in age group\n",
    "df_analysis['age_upon_intake_age_group'].unique()\n",
    "\n",
    "# replace these by categorical variables (or learn how to remove the brackets)\n",
    "df_test = df_analysis.replace(['(7.5, 10.0]', '(5.0, 7.5]', '(15.0, 17.5]', '(12.5, 15.0]',\n",
    "       '(17.5, 20.0]', '(10.0, 12.5]', '(2.5, 5.0]', '(-0.025, 2.5]',\n",
    "       '(20.0, 22.5]', '(22.5, 25.0]'], ['07.5_10.0', '05.0_07.5','15.0_17.5', '12.5_15.0',\n",
    "    '17.5_20.0', '10.0_12.5', '02.5_05.0','00.0_02.5','20.0_22.5','22.5_25.0'])\n",
    "\n",
    "df_test['age_upon_intake_age_group'].unique()\n",
    "\n",
    "# count of dogs per age_upon_intake_age_group\n",
    "dogs_by_age_group = df_test.groupby('age_upon_intake_age_group').count().reset_index()\n",
    "dogs_by_age_group.sort_values(by='age_upon_intake_age_group',ascending=True)"
   ]
  },
  {
   "cell_type": "code",
   "execution_count": null,
   "metadata": {},
   "outputs": [],
   "source": [
    "# bar plot of intake age groups\n",
    "plt.figure(figsize=(10,4))\n",
    "sns.barplot(x='age_upon_intake_age_group', y='count', data=dogs_by_age_group)\n",
    "plt.xlabel('age group at intake')\n",
    "plt.ylabel('count')\n",
    "plt.tight_layout()\n",
    "plt.show()"
   ]
  },
  {
   "cell_type": "code",
   "execution_count": null,
   "metadata": {},
   "outputs": [],
   "source": [
    "# scatterplot of length of stay in relation to age\n",
    "plt.figure(figsize=(12,6))\n",
    "sns.scatterplot(x='age_upon_intake_(years)', y='time_in_shelter_days', data=df_dogs)\n",
    "\n",
    "plt.xlabel('age at intake [years]')\n",
    "plt.ylabel('length of stay')\n",
    "plt.tight_layout()\n",
    "plt.show()\n",
    "           "
   ]
  },
  {
   "cell_type": "code",
   "execution_count": null,
   "metadata": {},
   "outputs": [],
   "source": [
    "# filter dogs with above-average lengths of stay\n",
    "avg_stay = df_dogs['time_in_shelter_days'].mean()\n",
    "print(f\"the average length of stay is {avg_stay.round(1)} days\")\n",
    "\n",
    "above_avg_stay = df_dogs[df_dogs['time_in_shelter_days'] > df_dogs['time_in_shelter_days'].mean()]\n",
    "\n",
    "print(f\"there are {len(above_avg_stay)} dogs that stay longer than the average\")"
   ]
  },
  {
   "cell_type": "code",
   "execution_count": null,
   "metadata": {},
   "outputs": [],
   "source": [
    "# length of stay statistics by breed/age\n",
    "stay_stats_by_breed = df_dogs.groupby('breed')['time_in_shelter_days'].agg(['mean', 'min', 'max'])\n",
    "stay_stats_by_breed.sort_values('mean', ascending=True).tail()\n",
    "\n",
    "\n",
    "stay_stats_by_age_group = df_test.groupby('age_upon_intake_age_group')['time_in_shelter_days'].agg(['mean', 'min', 'max'])\n",
    "stay_stats_by_age_group.sort_values('age_upon_intake_age_group', ascending=True).round(1)\n"
   ]
  },
  {
   "cell_type": "code",
   "execution_count": null,
   "metadata": {},
   "outputs": [],
   "source": [
    "# most and least taken in breeds of dogs\n",
    "top_breeds_taken_in = df_dogs['breed'].value_counts(sort=True).head()\n",
    "bottom_breeds_taken_in = df_dogs['breed'].value_counts(sort=True).tail()\n",
    "top_breeds_taken_in\n",
    "#bottom_breeds_taken_in"
   ]
  },
  {
   "cell_type": "code",
   "execution_count": null,
   "metadata": {},
   "outputs": [],
   "source": [
    "# add a column showing adoptions relative to total intake per given monthyear \n",
    "# Step 1: Calculate the total number of outcomes per intake_monthyear\n",
    "total_outcomes = df_dogs.groupby('intake_monthyear')['count'].sum()\n",
    "\n",
    "# Step 2: Calculate the number of adoptions per intake_monthyear\n",
    "adoptions = df_dogs[df_dogs['outcome_type'] == 'Adoption'].groupby('intake_monthyear')['count'].sum()\n",
    "\n",
    "# Step 3: Calculate the ratio of adoptions to total outcomes for each intake_monthyear\n",
    "adoption_ratio = adoptions / total_outcomes\n",
    "\n",
    "# Step 4: Add a new column to the original DataFrame\n",
    "df_dogs['adoption_ratio'] = df_dogs['intake_monthyear'].map(adoption_ratio)\n",
    "\n"
   ]
  },
  {
   "cell_type": "code",
   "execution_count": null,
   "metadata": {},
   "outputs": [],
   "source": [
    "outcomes_over_time = df_dogs.groupby(['outcome_monthyear', 'outcome_type'])['count'].sum().unstack()\n",
    "\n",
    "# Step 2: Plot the data using a line plot\n",
    "plt.figure(figsize=(10, 6))\n",
    "\n",
    "# Step 3: Plot a line for each outcome_type\n",
    "outcomes_over_time.plot(kind='line', marker='o', ax=plt.gca())\n",
    "\n",
    "# Step 4: Customize the plot\n",
    "plt.xlabel('Outcome Month/Year')\n",
    "plt.ylabel('Count of Outcomes')\n",
    "plt.title('Adoptions and Other Outcomes Over Time')\n",
    "plt.legend(title='Outcome Type')\n",
    "\n",
    "# Display the plot\n",
    "plt.show()"
   ]
  },
  {
   "cell_type": "code",
   "execution_count": null,
   "metadata": {},
   "outputs": [],
   "source": [
    "######## Frage an Nenad #########\n",
    "# ich wollte hier einen line plot mit outcome_monthyear auf dr x achse, sortiert nach Datum (was auch gelungen ist)\n",
    "# aber EINEN Wert für adoption_ratio pro gegebenem monthyear Wert. Ich verstehe nicht, wieso dort mehrere auftauchen.\n",
    "\n",
    "\n",
    "\n",
    "plt.figure(figsize=(15,6))\n",
    "\n",
    "#plt.plot(adoption_counts['outcome_year'].sort_values(ascending=True), adoption_counts['count'], color='black')\n",
    "plt.plot(df_dogs['outcome_monthyear'].sort_values(ascending=True), df_dogs['adoption_ratio'],marker='o', linestyle='-', color='b')\n",
    "plt.xlabel('year')\n",
    "plt.ylabel('adoption rate')\n",
    "plt.xticks(rotation = 45)\n",
    "\n",
    "plt.tight_layout()\n",
    "plt.show()"
   ]
  },
  {
   "cell_type": "code",
   "execution_count": null,
   "metadata": {},
   "outputs": [],
   "source": [
    "# Assuming df_dogs is your original DataFrame\n",
    "# Group by outcome_monthyear and calculate mean adoption ratio\n",
    "monthly_adoption_ratio = df_dogs.groupby('outcome_monthyear')['adoption_ratio'].mean().reset_index()\n",
    "\n",
    "# Sort by date\n",
    "monthly_adoption_ratio['outcome_monthyear'] = pd.to_datetime(monthly_adoption_ratio['outcome_monthyear'])\n",
    "monthly_adoption_ratio = monthly_adoption_ratio.sort_values('outcome_monthyear')\n",
    "\n",
    "# Create the plot\n",
    "plt.figure(figsize=(15,6))\n",
    "plt.plot(monthly_adoption_ratio['outcome_monthyear'], \n",
    "         monthly_adoption_ratio['adoption_ratio'],\n",
    "         marker='o', linestyle='-', color='b')\n",
    "\n",
    "plt.xlabel('Year')\n",
    "plt.ylabel('Adoption Rate')\n",
    "plt.title('Monthly Adoption Rate Over Time')\n",
    "plt.xticks(rotation=45)\n",
    "plt.tight_layout()\n",
    "plt.show()"
   ]
  },
  {
   "cell_type": "code",
   "execution_count": null,
   "metadata": {},
   "outputs": [],
   "source": [
    "\n",
    "# Group by 'outcome_monthyear' and calculate the mean 'adoption_ratio'\n",
    "# df_grouped = df_dogs.groupby('outcome_monthyear', as_index=False)['adoption_ratio'].max()\n",
    "df_grouped = df_dogs.groupby('outcome_monthyear', as_index=False)['adoption_ratio'].mean()\n",
    "# df_grouped = df_dogs.groupby('outcome_monthyear', as_index=False)['adoption_ratio'].min()\n",
    "\n",
    "# Sort by 'outcome_monthyear'\n",
    "df_grouped = df_grouped.sort_values('outcome_monthyear', ascending=True)\n",
    "\n",
    "# Plot the aggregated data\n",
    "plt.figure(figsize=(15,6))\n",
    "plt.plot(df_grouped['outcome_monthyear'], df_grouped['adoption_ratio'], marker='o', linestyle='-', color='b')\n",
    "plt.xlabel('year')\n",
    "plt.ylabel('adoption rate')\n",
    "plt.xticks(rotation=45)\n",
    "\n",
    "plt.tight_layout()\n",
    "plt.show()\n",
    "df_grouped['adoption_ratio']\n",
    "# df_grouped['outcome_monthyear']"
   ]
  }
 ],
 "metadata": {
  "kernelspec": {
   "display_name": "Python 3",
   "language": "python",
   "name": "python3"
  },
  "language_info": {
   "codemirror_mode": {
    "name": "ipython",
    "version": 3
   },
   "file_extension": ".py",
   "mimetype": "text/x-python",
   "name": "python",
   "nbconvert_exporter": "python",
   "pygments_lexer": "ipython3",
   "version": "3.12.5"
  }
 },
 "nbformat": 4,
 "nbformat_minor": 2
}
